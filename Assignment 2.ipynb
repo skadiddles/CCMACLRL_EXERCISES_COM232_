{
  "nbformat": 4,
  "nbformat_minor": 0,
  "metadata": {
    "colab": {
      "provenance": [],
      "authorship_tag": "ABX9TyP3p0xpxL6v9zN0ACChw3vt",
      "include_colab_link": true
    },
    "kernelspec": {
      "name": "python3",
      "display_name": "Python 3"
    },
    "language_info": {
      "name": "python"
    }
  },
  "cells": [
    {
      "cell_type": "markdown",
      "metadata": {
        "id": "view-in-github",
        "colab_type": "text"
      },
      "source": [
        "<a href=\"https://colab.research.google.com/github/skadiddles/CCMACLRL_EXERCISES_COM232_/blob/main/Assignment%202.ipynb\" target=\"_parent\"><img src=\"https://colab.research.google.com/assets/colab-badge.svg\" alt=\"Open In Colab\"/></a>"
      ]
    },
    {
      "cell_type": "markdown",
      "source": [
        "1. Fill in the table (14 points)"
      ],
      "metadata": {
        "id": "vDOp-f_oXt4S"
      }
    },
    {
      "cell_type": "markdown",
      "source": [
        "| Student | x (Hours Studied) | y (Exam Score) | xy    | x² |\n",
        "|---------|--------------------|----------------|-------|----|\n",
        "| 1       | 1                  | 52             | 52    | 1  |\n",
        "| 2       | 2                  | 57             | 114   | 4  |\n",
        "| 3       | 3                  | 61             | 183   | 9  |\n",
        "| 4       | 4                  | 65             | 260   | 16 |\n",
        "| 5       | 5                  | 70             | 350   | 25 |\n",
        "| 6       | 6                  | 74.2           | 445.2 | 36 |\n",
        "| **Totals**   | **21**             | **379.2**      | **1404.2** | **91** |\n"
      ],
      "metadata": {
        "id": "leKO-JZdXuyA"
      }
    },
    {
      "cell_type": "markdown",
      "source": [
        "2. Compute the Slope\n",
        "m\n",
        " (5 points)"
      ],
      "metadata": {
        "id": "KmTHu2WrZj97"
      }
    },
    {
      "cell_type": "markdown",
      "source": [
        "Slope (m) Formula:\n",
        "m = [ n(Σxy) - (Σx)(Σy) ] / [ n(Σx²) - (Σx)² ]\n",
        "\n",
        "Given:\n",
        "n = 6\n",
        "Σx = 21\n",
        "Σy = 379.2\n",
        "Σxy = 1404.2\n",
        "Σx² = 91\n",
        "\n",
        "Step 1: Numerator\n",
        "n(Σxy) - (Σx)(Σy)\n",
        "= 6(1404.2) - (21)(379.2)\n",
        "= 8425.2 - 7963.2\n",
        "= 462\n",
        "\n",
        "Step 2: Denominator\n",
        "n(Σx²) - (Σx)²\n",
        "= 6(91) - (21)²\n",
        "= 546 - 441\n",
        "= 105\n",
        "\n",
        "Step 3: Compute slope\n",
        "m = 462 / 105\n",
        "m = 4.4\n",
        "\n",
        "Final Answer:\n",
        "m = 4.4\n"
      ],
      "metadata": {
        "id": "wqYPYfRCZoBo"
      }
    },
    {
      "cell_type": "markdown",
      "source": [
        "3. Compute the Intercept\n",
        "b\n",
        " (5 points)"
      ],
      "metadata": {
        "id": "AsNDkZ3XZ7Pz"
      }
    },
    {
      "cell_type": "markdown",
      "source": [
        "Intercept (b) Formula:\n",
        "b = [ Σy - m(Σx) ] / n\n",
        "\n",
        "Given:\n",
        "Σy = 379.2\n",
        "Σx = 21\n",
        "m = 4.4\n",
        "n = 6\n",
        "\n",
        "Step 1: Multiply m and Σx\n",
        "m(Σx) = 4.4 × 21 = 92.4\n",
        "\n",
        "Step 2: Subtract from Σy\n",
        "Σy - m(Σx) = 379.2 - 92.4 = 286.8\n",
        "\n",
        "Step 3: Divide by n\n",
        "b = 286.8 / 6\n",
        "b = 47.8\n",
        "\n",
        "Final Answer:\n",
        "b = 47.8\n"
      ],
      "metadata": {
        "id": "YFDyhWpmaFpz"
      }
    },
    {
      "cell_type": "markdown",
      "source": [
        "4. Regression Equation (5 points)"
      ],
      "metadata": {
        "id": "r5EhUZ54aRhg"
      }
    },
    {
      "cell_type": "markdown",
      "source": [
        "Regression Equation Formula:\n",
        "y = mx + b\n",
        "\n",
        "From previous results:\n",
        "m = 4.4\n",
        "b = 47.8\n",
        "\n",
        "Substitute values:\n",
        "y = 4.4x + 47.8\n",
        "\n",
        "Final Answer:\n",
        "y = 4.4x + 47.8\n"
      ],
      "metadata": {
        "id": "vU4FGmm4aTqS"
      }
    },
    {
      "cell_type": "markdown",
      "source": [
        "5. Draw the regression line using a scatter plot (10 points)"
      ],
      "metadata": {
        "id": "fvkdUl12amDI"
      }
    },
    {
      "cell_type": "code",
      "source": [
        "import matplotlib.pyplot as plt\n",
        "\n",
        "x = [1, 2, 3, 4, 5, 6]\n",
        "y = [52, 57, 61, 65, 70, 74.2]\n",
        "m = 4.4\n",
        "b = 47.8\n",
        "\n",
        "y_pred = [m*xi + b for xi in x]\n",
        "\n",
        "plt.scatter(x, y, color=\"blue\", marker=\"o\", label=\"Data points 🔵\")\n",
        "plt.plot(x, y_pred, color=\"red\", label=\"Regression line\")\n",
        "\n",
        "plt.xlabel(\"Hours Studied (x)\")\n",
        "plt.ylabel(\"Exam Score (y)\")\n",
        "plt.title(\"Regression Line for Exam Scores\")\n",
        "plt.show()"
      ],
      "metadata": {
        "colab": {
          "base_uri": "https://localhost:8080/",
          "height": 472
        },
        "id": "-VKu87Aba0UD",
        "outputId": "72c641f0-00d6-4f87-a8d0-a0b040eab173"
      },
      "execution_count": 2,
      "outputs": [
        {
          "output_type": "display_data",
          "data": {
            "text/plain": [
              "<Figure size 640x480 with 1 Axes>"
            ],
            "image/png": "[encoded data removed]"
          },
          "metadata": {}
        }
      ]
    },
    {
      "cell_type": "markdown",
      "source": [
        "6. Calculate the Sum of Squared Errors (20 points)"
      ],
      "metadata": {
        "id": "o5pGyeAJbd8C"
      }
    },
    {
      "cell_type": "markdown",
      "source": [
        "| Student | Hours Studied (x) | Exam Score (y) | Predicted Exam Score (y_predict) | y - y_predict | (y - y_predict)² |\n",
        "|---------|--------------------|----------------|----------------------------------|---------------|------------------|\n",
        "| 1       | 1                  | 52             | 52.2                             | -0.2          | 0.04             |\n",
        "| 2       | 2                  | 57             | 56.6                             | 0.4           | 0.16             |\n",
        "| 3       | 3                  | 61             | 61.0                             | 0.0           | 0.00             |\n",
        "| 4       | 4                  | 65             | 65.4                             | -0.4          | 0.16             |\n",
        "| 5       | 5                  | 70             | 69.8                             | 0.2           | 0.04             |\n",
        "| 6       | 6                  | 74.2           | 74.2                             | 0.0           | 0.00             |\n",
        "\n",
        "SSE = 0.40\n"
      ],
      "metadata": {
        "id": "X9QRbruDbfZE"
      }
    },
    {
      "cell_type": "markdown",
      "source": [
        "7. Calculate the Sum of Squared Total (20 points)"
      ],
      "metadata": {
        "id": "mju2JEVrcCHC"
      }
    },
    {
      "cell_type": "markdown",
      "source": [
        "| Student | Hours Studied (x) | Exam Score (y) | Mean (ȳ=61) | y - ȳ | (y - ȳ)² |\n",
        "|---------|--------------------|----------------|--------------|--------|-----------|\n",
        "| 1       | 1                  | 52             | 61           | -9     | 81        |\n",
        "| 2       | 2                  | 57             | 61           | -4     | 16        |\n",
        "| 3       | 3                  | 61             | 61           | 0      | 0         |\n",
        "| 4       | 4                  | 65             | 61           | 4      | 16        |\n",
        "| 5       | 5                  | 70             | 61           | 9      | 81        |\n",
        "\n",
        "SST = 194\n"
      ],
      "metadata": {
        "id": "CoqUlzxscEaM"
      }
    },
    {
      "cell_type": "markdown",
      "source": [
        "8. Compute\n",
        "R\n",
        "2\n",
        " (20 points)"
      ],
      "metadata": {
        "id": "BMj6AC8ucYHD"
      }
    },
    {
      "cell_type": "markdown",
      "source": [
        "SSE = 0.40\n",
        "\n",
        "SST = 194\n",
        "\n",
        "R² = 1 − (SSE / SST)\n",
        "\n",
        "R² = 1 − (0.40 / 194)\n",
        "\n",
        "R² = 1 − 0.00206\n",
        "\n",
        "R² ≈ 0.998"
      ],
      "metadata": {
        "id": "nlG8d0AKcY7v"
      }
    },
    {
      "cell_type": "markdown",
      "source": [
        "9. Prediction (1 point)"
      ],
      "metadata": {
        "id": "a3uDFS9ncne8"
      }
    },
    {
      "cell_type": "markdown",
      "source": [
        "y = 4.4x + 47.8\n",
        "\n",
        "x = 6\n",
        "\n",
        "y = 4.4(6) + 47.8\n",
        "\n",
        "y = 26.4 + 47.8\n",
        "\n",
        "y = 74.2\n",
        "\n",
        "the predicted exam score for a student who student for 6 hours is 74.2"
      ],
      "metadata": {
        "id": "FbJGvFG5coEW"
      }
    }
  ]
}