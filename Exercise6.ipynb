{
  "cells": [
    {
      "cell_type": "markdown",
      "metadata": {
        "id": "view-in-github",
        "colab_type": "text"
      },
      "source": [
        "<a href=\"https://colab.research.google.com/github/skadiddles/CCMACLRL_EXERCISES_COM232_/blob/main/Exercise6.ipynb\" target=\"_parent\"><img src=\"https://colab.research.google.com/assets/colab-badge.svg\" alt=\"Open In Colab\"/></a>"
      ]
    },
    {
      "cell_type": "markdown",
      "source": [
        "## Exercise 6: Choosing the best performing model on a dataset\n",
        "\n",
        "Instructions:\n",
        "\n",
        "- Use the Dataset File to train your model\n",
        "- Use the Test File to generate your results\n",
        "- Use the Sample Submission file to generate the same format\n",
        "- Use all Regression models\n",
        "\n",
        "Submit your results to:\n",
        "https://www.kaggle.com/competitions/house-prices-advanced-regression-techniques/overview\n",
        "\n"
      ],
      "metadata": {
        "id": "99_2rPCJrNfK"
      }
    },
    {
      "cell_type": "code",
      "execution_count": null,
      "metadata": {
        "id": "R_se3V8gftVL"
      },
      "outputs": [],
      "source": [
        "import pandas as pd\n",
        "import seaborn as sns\n",
        "\n",
        "from matplotlib import pyplot as plt\n",
        "from sklearn.neighbors import KNeighborsRegressor\n",
        "from sklearn.svm import SVR\n",
        "from sklearn.tree import DecisionTreeRegressor\n",
        "from sklearn.ensemble import RandomForestRegressor\n",
        "from sklearn.model_selection import train_test_split"
      ]
    },
    {
      "cell_type": "markdown",
      "metadata": {
        "id": "eCNNEXIhftVN"
      },
      "source": [
        "## Dataset File"
      ]
    },
    {
      "cell_type": "code",
      "execution_count": null,
      "metadata": {
        "id": "-Cqj3uEkftVO"
      },
      "outputs": [],
      "source": [
        "train_data = 'https://github.com/robitussin/CCMACLRL_EXERCISES/blob/3fd7d51ffd17863598ac3f44eeefc558171a5b73/dataset/house-prices-advanced-regression-techniques/train.csv?raw=true'\n",
        "df = pd.read_csv(train_data)"
      ]
    },
    {
      "cell_type": "markdown",
      "metadata": {
        "id": "mLFiGySNftVP"
      },
      "source": [
        "## Test File"
      ]
    },
    {
      "cell_type": "code",
      "execution_count": null,
      "metadata": {
        "id": "7pKmP53fftVP"
      },
      "outputs": [],
      "source": [
        "test_url = 'https://github.com/robitussin/CCMACLRL_EXERCISES/blob/3fd7d51ffd17863598ac3f44eeefc558171a5b73/dataset/house-prices-advanced-regression-techniques/test.csv?raw=true'\n",
        "dt=pd.read_csv(test_url)"
      ]
    },
    {
      "cell_type": "code",
      "source": [
        "dt.info()"
      ],
      "metadata": {
        "colab": {
          "base_uri": "https://localhost:8080/"
        },
        "id": "2f11HsMzqEvJ",
        "outputId": "1d336b70-fb22-4e4a-ead5-90d07454d116"
      },
      "execution_count": null,
      "outputs": [
        {
          "output_type": "stream",
          "name": "stdout",
          "text": [
            "<class 'pandas.core.frame.DataFrame'>\n",
            "RangeIndex: 1459 entries, 0 to 1458\n",
            "Data columns (total 80 columns):\n",
            " #   Column         Non-Null Count  Dtype  \n",
            "---  ------         --------------  -----  \n",
            " 0   Id             1459 non-null   int64  \n",
            " 1   MSSubClass     1459 non-null   int64  \n",
            " 2   MSZoning       1455 non-null   object \n",
            " 3   LotFrontage    1232 non-null   float64\n",
            " 4   LotArea        1459 non-null   int64  \n",
            " 5   Street         1459 non-null   object \n",
            " 6   Alley          107 non-null    object \n",
            " 7   LotShape       1459 non-null   object \n",
            " 8   LandContour    1459 non-null   object \n",
            " 9   Utilities      1457 non-null   object \n",
            " 10  LotConfig      1459 non-null   object \n",
            " 11  LandSlope      1459 non-null   object \n",
            " 12  Neighborhood   1459 non-null   object \n",
            " 13  Condition1     1459 non-null   object \n",
            " 14  Condition2     1459 non-null   object \n",
            " 15  BldgType       1459 non-null   object \n",
            " 16  HouseStyle     1459 non-null   object \n",
            " 17  OverallQual    1459 non-null   int64  \n",
            " 18  OverallCond    1459 non-null   int64  \n",
            " 19  YearBuilt      1459 non-null   int64  \n",
            " 20  YearRemodAdd   1459 non-null   int64  \n",
            " 21  RoofStyle      1459 non-null   object \n",
            " 22  RoofMatl       1459 non-null   object \n",
            " 23  Exterior1st    1458 non-null   object \n",
            " 24  Exterior2nd    1458 non-null   object \n",
            " 25  MasVnrType     565 non-null    object \n",
            " 26  MasVnrArea     1444 non-null   float64\n",
            " 27  ExterQual      1459 non-null   object \n",
            " 28  ExterCond      1459 non-null   object \n",
            " 29  Foundation     1459 non-null   object \n",
            " 30  BsmtQual       1415 non-null   object \n",
            " 31  BsmtCond       1414 non-null   object \n",
            " 32  BsmtExposure   1415 non-null   object \n",
            " 33  BsmtFinType1   1417 non-null   object \n",
            " 34  BsmtFinSF1     1458 non-null   float64\n",
            " 35  BsmtFinType2   1417 non-null   object \n",
            " 36  BsmtFinSF2     1458 non-null   float64\n",
            " 37  BsmtUnfSF      1458 non-null   float64\n",
            " 38  TotalBsmtSF    1458 non-null   float64\n",
            " 39  Heating        1459 non-null   object \n",
            " 40  HeatingQC      1459 non-null   object \n",
            " 41  CentralAir     1459 non-null   object \n",
            " 42  Electrical     1459 non-null   object \n",
            " 43  1stFlrSF       1459 non-null   int64  \n",
            " 44  2ndFlrSF       1459 non-null   int64  \n",
            " 45  LowQualFinSF   1459 non-null   int64  \n",
            " 46  GrLivArea      1459 non-null   int64  \n",
            " 47  BsmtFullBath   1457 non-null   float64\n",
            " 48  BsmtHalfBath   1457 non-null   float64\n",
            " 49  FullBath       1459 non-null   int64  \n",
            " 50  HalfBath       1459 non-null   int64  \n",
            " 51  BedroomAbvGr   1459 non-null   int64  \n",
            " 52  KitchenAbvGr   1459 non-null   int64  \n",
            " 53  KitchenQual    1458 non-null   object \n",
            " 54  TotRmsAbvGrd   1459 non-null   int64  \n",
            " 55  Functional     1457 non-null   object \n",
            " 56  Fireplaces     1459 non-null   int64  \n",
            " 57  FireplaceQu    729 non-null    object \n",
            " 58  GarageType     1383 non-null   object \n",
            " 59  GarageYrBlt    1381 non-null   float64\n",
            " 60  GarageFinish   1381 non-null   object \n",
            " 61  GarageCars     1458 non-null   float64\n",
            " 62  GarageArea     1458 non-null   float64\n",
            " 63  GarageQual     1381 non-null   object \n",
            " 64  GarageCond     1381 non-null   object \n",
            " 65  PavedDrive     1459 non-null   object \n",
            " 66  WoodDeckSF     1459 non-null   int64  \n",
            " 67  OpenPorchSF    1459 non-null   int64  \n",
            " 68  EnclosedPorch  1459 non-null   int64  \n",
            " 69  3SsnPorch      1459 non-null   int64  \n",
            " 70  ScreenPorch    1459 non-null   int64  \n",
            " 71  PoolArea       1459 non-null   int64  \n",
            " 72  PoolQC         3 non-null      object \n",
            " 73  Fence          290 non-null    object \n",
            " 74  MiscFeature    51 non-null     object \n",
            " 75  MiscVal        1459 non-null   int64  \n",
            " 76  MoSold         1459 non-null   int64  \n",
            " 77  YrSold         1459 non-null   int64  \n",
            " 78  SaleType       1458 non-null   object \n",
            " 79  SaleCondition  1459 non-null   object \n",
            "dtypes: float64(11), int64(26), object(43)\n",
            "memory usage: 912.0+ KB\n"
          ]
        }
      ]
    },
    {
      "cell_type": "markdown",
      "metadata": {
        "id": "ntGpbsBg8hft"
      },
      "source": [
        "## Sample Submission File"
      ]
    },
    {
      "cell_type": "code",
      "execution_count": null,
      "metadata": {
        "id": "-5Dwtw_w3U8W"
      },
      "outputs": [],
      "source": [
        "sample_submission_url ='https://github.com/robitussin/CCMACLRL_EXERCISES/blob/3fd7d51ffd17863598ac3f44eeefc558171a5b73/dataset/house-prices-advanced-regression-techniques/sample_submission.csv?raw=true'\n",
        "\n",
        "sf=pd.read_csv(sample_submission_url)"
      ]
    },
    {
      "cell_type": "code",
      "source": [
        "sf.info()"
      ],
      "metadata": {
        "colab": {
          "base_uri": "https://localhost:8080/"
        },
        "id": "K1_62qZBqLjV",
        "outputId": "ca1fe01a-5370-4e8c-9324-cc5e76d710ae"
      },
      "execution_count": null,
      "outputs": [
        {
          "output_type": "stream",
          "name": "stdout",
          "text": [
            "<class 'pandas.core.frame.DataFrame'>\n",
            "RangeIndex: 1459 entries, 0 to 1458\n",
            "Data columns (total 2 columns):\n",
            " #   Column     Non-Null Count  Dtype  \n",
            "---  ------     --------------  -----  \n",
            " 0   Id         1459 non-null   int64  \n",
            " 1   SalePrice  1459 non-null   float64\n",
            "dtypes: float64(1), int64(1)\n",
            "memory usage: 22.9 KB\n"
          ]
        }
      ]
    },
    {
      "cell_type": "markdown",
      "source": [],
      "metadata": {
        "id": "7nNjd6aErISr"
      }
    },
    {
      "cell_type": "code",
      "source": [
        "X = df.drop(columns=[\"SalePrice\", \"Id\"])\n",
        "y = df[\"SalePrice\"]\n",
        "\n",
        "for col in X.select_dtypes(include=[\"int64\", \"float64\"]).columns:\n",
        "    X[col].fillna(X[col].median(), inplace=True)\n",
        "\n",
        "for col in X.select_dtypes(include=[\"object\"]).columns:\n",
        "    X[col].fillna(X[col].mode()[0], inplace=True)\n",
        "\n",
        "X = pd.get_dummies(X, drop_first=True)\n",
        "\n",
        "# Train/test split\n",
        "x_train, x_test, y_train, y_test = train_test_split(X, y, test_size=0.3, random_state=1)\n",
        "\n",
        "def cross_val(model, X, y, k=5):\n",
        "    fold_size = len(X) // k\n",
        "    scores = []\n",
        "\n",
        "    for i in range(k):\n",
        "        start = i * fold_size\n",
        "        end = start + fold_size\n",
        "\n",
        "        x_val = X.iloc[start:end]\n",
        "        y_val = y.iloc[start:end]\n",
        "\n",
        "        x_train = pd.concat([X.iloc[:start], X.iloc[end:]])\n",
        "        y_train = pd.concat([y.iloc[:start], y.iloc[end:]])\n",
        "\n",
        "        model.fit(x_train, y_train)\n",
        "        scores.append(model.score(x_val, y_val))\n",
        "\n",
        "    return sum(scores) / len(scores)\n",
        "\n",
        "score_list = {}\n"
      ],
      "metadata": {
        "id": "DtqJH7yPrHSm",
        "colab": {
          "base_uri": "https://localhost:8080/"
        },
        "outputId": "df559805-d0ad-4391-f20c-92b75efc089c"
      },
      "execution_count": null,
      "outputs": [
        {
          "output_type": "stream",
          "name": "stderr",
          "text": [
            "/tmp/ipython-input-2167913931.py:5: FutureWarning: A value is trying to be set on a copy of a DataFrame or Series through chained assignment using an inplace method.\n",
            "The behavior will change in pandas 3.0. This inplace method will never work because the intermediate object on which we are setting values always behaves as a copy.\n",
            "\n",
            "For example, when doing 'df[col].method(value, inplace=True)', try using 'df.method({col: value}, inplace=True)' or df[col] = df[col].method(value) instead, to perform the operation inplace on the original object.\n",
            "\n",
            "\n",
            "  X[col].fillna(X[col].median(), inplace=True)\n",
            "/tmp/ipython-input-2167913931.py:8: FutureWarning: A value is trying to be set on a copy of a DataFrame or Series through chained assignment using an inplace method.\n",
            "The behavior will change in pandas 3.0. This inplace method will never work because the intermediate object on which we are setting values always behaves as a copy.\n",
            "\n",
            "For example, when doing 'df[col].method(value, inplace=True)', try using 'df.method({col: value}, inplace=True)' or df[col] = df[col].method(value) instead, to perform the operation inplace on the original object.\n",
            "\n",
            "\n",
            "  X[col].fillna(X[col].mode()[0], inplace=True)\n"
          ]
        }
      ]
    },
    {
      "cell_type": "markdown",
      "source": [
        "## 1. Train a KNN Regressor"
      ],
      "metadata": {
        "id": "19dHs7ZprqHd"
      }
    },
    {
      "cell_type": "code",
      "source": [
        "KNN = KNeighborsRegressor(n_neighbors=22)\n",
        "KNN.fit(x_train, y_train)\n",
        "knn_score = KNN.score(x_test, y_test)\n",
        "score_list[\"KNN Regressor\"] = knn_score\n",
        "print(f\"KNN Test Score is {knn_score}\")"
      ],
      "metadata": {
        "id": "sfo3q7hjru-k",
        "colab": {
          "base_uri": "https://localhost:8080/"
        },
        "outputId": "f37e31df-7157-4627-97af-8608f6461cf4"
      },
      "execution_count": null,
      "outputs": [
        {
          "output_type": "stream",
          "name": "stdout",
          "text": [
            "KNN Test Score is 0.5980835491666139\n"
          ]
        }
      ]
    },
    {
      "cell_type": "markdown",
      "source": [
        "- Perform cross validation"
      ],
      "metadata": {
        "id": "lqPzPhIs0zjf"
      }
    },
    {
      "cell_type": "code",
      "source": [
        "\n",
        "knn_cv = cross_val(KNN, X, y, k=5)\n",
        "print(f\"KNN Cross-Validation Score is {knn_cv}\")"
      ],
      "metadata": {
        "id": "Xz-BV38o04PL",
        "colab": {
          "base_uri": "https://localhost:8080/"
        },
        "outputId": "b494f128-c86f-41b8-9e2f-2191fef2f55e"
      },
      "execution_count": null,
      "outputs": [
        {
          "output_type": "stream",
          "name": "stdout",
          "text": [
            "KNN Cross-Validation Score is 0.6085890609548947\n"
          ]
        }
      ]
    },
    {
      "cell_type": "markdown",
      "source": [
        "## 2. Train a SVM Regression"
      ],
      "metadata": {
        "id": "GlMLKDF_rvUM"
      }
    },
    {
      "cell_type": "code",
      "source": [
        "SVM = SVR(kernel=\"rbf\", C=100, gamma=0.1)\n",
        "SVM.fit(x_train, y_train)\n",
        "svm_score = SVM.score(x_test, y_test)\n",
        "score_list[\"SVM Regressor\"] = svm_score\n",
        "print(f\"SVM Test Score is {svm_score}\")"
      ],
      "metadata": {
        "id": "0MJX8VBysFxR",
        "colab": {
          "base_uri": "https://localhost:8080/"
        },
        "outputId": "14952fb6-a0f6-4f95-f237-c8a5aaf78a6d"
      },
      "execution_count": null,
      "outputs": [
        {
          "output_type": "stream",
          "name": "stdout",
          "text": [
            "SVM Test Score is -0.037962385609509264\n"
          ]
        }
      ]
    },
    {
      "cell_type": "markdown",
      "source": [
        "- Perform cross validation"
      ],
      "metadata": {
        "id": "-wzEMe9J1DSe"
      }
    },
    {
      "cell_type": "code",
      "source": [
        "svm_cv = cross_val(SVM, X, y, k=5)\n",
        "print(f\"SVM Cross-Validation Score is {svm_cv}\")"
      ],
      "metadata": {
        "id": "dPJlm2S-1Dqe",
        "colab": {
          "base_uri": "https://localhost:8080/"
        },
        "outputId": "f40a9d05-fd2f-47ce-e6e4-f2d2de45fa48"
      },
      "execution_count": null,
      "outputs": [
        {
          "output_type": "stream",
          "name": "stdout",
          "text": [
            "SVM Cross-Validation Score is -0.05202678413481774\n"
          ]
        }
      ]
    },
    {
      "cell_type": "markdown",
      "source": [
        "## 3. Train a Decision Tree Regression"
      ],
      "metadata": {
        "id": "8n-ScOLqze60"
      }
    },
    {
      "cell_type": "code",
      "source": [
        "DT = DecisionTreeRegressor(random_state=1)\n",
        "DT.fit(x_train, y_train)\n",
        "dt_score = DT.score(x_test, y_test)\n",
        "score_list[\"Decision Tree Regressor\"] = dt_score\n",
        "print(f\"Decision Tree Test Score is {dt_score}\")"
      ],
      "metadata": {
        "id": "fqLNJkoHzfL4",
        "colab": {
          "base_uri": "https://localhost:8080/"
        },
        "outputId": "7e419363-ae58-45a3-bfd6-9999f3c690b2"
      },
      "execution_count": null,
      "outputs": [
        {
          "output_type": "stream",
          "name": "stdout",
          "text": [
            "Decision Tree Test Score is 0.751032883968054\n"
          ]
        }
      ]
    },
    {
      "cell_type": "markdown",
      "source": [
        "- Perform cross validation"
      ],
      "metadata": {
        "id": "5dkFpQ2j1GUO"
      }
    },
    {
      "cell_type": "code",
      "source": [
        "dt_cv = cross_val(DT, X, y, k=5)\n",
        "print(f\"Decision Tree Cross-Validation Score is {dt_cv}\")"
      ],
      "metadata": {
        "id": "hOXY4nc71Gk5",
        "colab": {
          "base_uri": "https://localhost:8080/"
        },
        "outputId": "680a0012-6837-4bb4-e65a-2c01cbeb9aff"
      },
      "execution_count": null,
      "outputs": [
        {
          "output_type": "stream",
          "name": "stdout",
          "text": [
            "Decision Tree Cross-Validation Score is 0.7241490299673856\n"
          ]
        }
      ]
    },
    {
      "cell_type": "markdown",
      "source": [
        "## 4. Train a Random Forest Regression"
      ],
      "metadata": {
        "id": "MkJ6eVbNsBay"
      }
    },
    {
      "cell_type": "code",
      "source": [
        "RF = RandomForestRegressor(n_estimators=200, random_state=1)\n",
        "RF.fit(x_train, y_train)\n",
        "rf_score = RF.score(x_test, y_test)\n",
        "score_list[\"Random Forest Regressor\"] = rf_score\n",
        "print(f\"Random Forest Test Score is {rf_score}\")\n",
        "rf_cv = cross_val(RF, X, y, k=5)\n",
        "print(f\"Random Forest Cross-Validation Score is {rf_cv}\")"
      ],
      "metadata": {
        "id": "w_LoDOYHsGo2",
        "colab": {
          "base_uri": "https://localhost:8080/"
        },
        "outputId": "d03620b0-603f-40b5-c01e-d5014c4555b7"
      },
      "execution_count": null,
      "outputs": [
        {
          "output_type": "error",
          "ename": "TypeError",
          "evalue": "list indices must be integers or slices, not str",
          "traceback": [
            "\u001b[0;31m---------------------------------------------------------------------------\u001b[0m",
            "\u001b[0;31mTypeError\u001b[0m                                 Traceback (most recent call last)",
            "\u001b[0;32m/tmp/ipython-input-3084358193.py\u001b[0m in \u001b[0;36m<cell line: 0>\u001b[0;34m()\u001b[0m\n\u001b[1;32m      2\u001b[0m \u001b[0mRF\u001b[0m\u001b[0;34m.\u001b[0m\u001b[0mfit\u001b[0m\u001b[0;34m(\u001b[0m\u001b[0mx_train\u001b[0m\u001b[0;34m,\u001b[0m \u001b[0my_train\u001b[0m\u001b[0;34m)\u001b[0m\u001b[0;34m\u001b[0m\u001b[0;34m\u001b[0m\u001b[0m\n\u001b[1;32m      3\u001b[0m \u001b[0mrf_score\u001b[0m \u001b[0;34m=\u001b[0m \u001b[0mRF\u001b[0m\u001b[0;34m.\u001b[0m\u001b[0mscore\u001b[0m\u001b[0;34m(\u001b[0m\u001b[0mx_test\u001b[0m\u001b[0;34m,\u001b[0m \u001b[0my_test\u001b[0m\u001b[0;34m)\u001b[0m\u001b[0;34m\u001b[0m\u001b[0;34m\u001b[0m\u001b[0m\n\u001b[0;32m----> 4\u001b[0;31m \u001b[0mscore_list\u001b[0m\u001b[0;34m[\u001b[0m\u001b[0;34m\"Random Forest Regressor\"\u001b[0m\u001b[0;34m]\u001b[0m \u001b[0;34m=\u001b[0m \u001b[0mrf_score\u001b[0m\u001b[0;34m\u001b[0m\u001b[0;34m\u001b[0m\u001b[0m\n\u001b[0m\u001b[1;32m      5\u001b[0m \u001b[0mprint\u001b[0m\u001b[0;34m(\u001b[0m\u001b[0;34mf\"Random Forest Test Score is {rf_score}\"\u001b[0m\u001b[0;34m)\u001b[0m\u001b[0;34m\u001b[0m\u001b[0;34m\u001b[0m\u001b[0m\n\u001b[1;32m      6\u001b[0m \u001b[0mrf_cv\u001b[0m \u001b[0;34m=\u001b[0m \u001b[0mcross_val\u001b[0m\u001b[0;34m(\u001b[0m\u001b[0mRF\u001b[0m\u001b[0;34m,\u001b[0m \u001b[0mX\u001b[0m\u001b[0;34m,\u001b[0m \u001b[0my\u001b[0m\u001b[0;34m,\u001b[0m \u001b[0mk\u001b[0m\u001b[0;34m=\u001b[0m\u001b[0;36m5\u001b[0m\u001b[0;34m)\u001b[0m\u001b[0;34m\u001b[0m\u001b[0;34m\u001b[0m\u001b[0m\n",
            "\u001b[0;31mTypeError\u001b[0m: list indices must be integers or slices, not str"
          ]
        }
      ]
    },
    {
      "cell_type": "markdown",
      "source": [
        "## 5. Compare all the performance of all regression models"
      ],
      "metadata": {
        "id": "3orhk-Vf0Jg-"
      }
    },
    {
      "cell_type": "code",
      "source": [
        "score_list = list(score_list.items())\n",
        "\n",
        "for alg,score in score_list:\n",
        "    print(f\"{alg} Score is {str(score)[:4]} \")"
      ],
      "metadata": {
        "id": "r5FUkgck0VY8",
        "colab": {
          "base_uri": "https://localhost:8080/",
          "height": 193
        },
        "outputId": "800049f5-c11c-457b-9ebb-454c654ed12b"
      },
      "execution_count": null,
      "outputs": [
        {
          "output_type": "error",
          "ename": "AttributeError",
          "evalue": "'list' object has no attribute 'items'",
          "traceback": [
            "\u001b[0;31m---------------------------------------------------------------------------\u001b[0m",
            "\u001b[0;31mAttributeError\u001b[0m                            Traceback (most recent call last)",
            "\u001b[0;32m/tmp/ipython-input-941122320.py\u001b[0m in \u001b[0;36m<cell line: 0>\u001b[0;34m()\u001b[0m\n\u001b[0;32m----> 1\u001b[0;31m \u001b[0mscore_list\u001b[0m \u001b[0;34m=\u001b[0m \u001b[0mlist\u001b[0m\u001b[0;34m(\u001b[0m\u001b[0mscore_list\u001b[0m\u001b[0;34m.\u001b[0m\u001b[0mitems\u001b[0m\u001b[0;34m(\u001b[0m\u001b[0;34m)\u001b[0m\u001b[0;34m)\u001b[0m\u001b[0;34m\u001b[0m\u001b[0;34m\u001b[0m\u001b[0m\n\u001b[0m\u001b[1;32m      2\u001b[0m \u001b[0;34m\u001b[0m\u001b[0m\n\u001b[1;32m      3\u001b[0m \u001b[0;32mfor\u001b[0m \u001b[0malg\u001b[0m\u001b[0;34m,\u001b[0m\u001b[0mscore\u001b[0m \u001b[0;32min\u001b[0m \u001b[0mscore_list\u001b[0m\u001b[0;34m:\u001b[0m\u001b[0;34m\u001b[0m\u001b[0;34m\u001b[0m\u001b[0m\n\u001b[1;32m      4\u001b[0m     \u001b[0mprint\u001b[0m\u001b[0;34m(\u001b[0m\u001b[0;34mf\"{alg} Score is {str(score)[:4]} \"\u001b[0m\u001b[0;34m)\u001b[0m\u001b[0;34m\u001b[0m\u001b[0;34m\u001b[0m\u001b[0m\n",
            "\u001b[0;31mAttributeError\u001b[0m: 'list' object has no attribute 'items'"
          ]
        }
      ]
    },
    {
      "cell_type": "markdown",
      "source": [],
      "metadata": {
        "id": "PCkrVuAbC6eu"
      }
    },
    {
      "cell_type": "markdown",
      "source": [
        "## 6. Generate Submission File\n",
        "\n",
        "Choose the model that has the best performance to generate a submission file."
      ],
      "metadata": {
        "id": "a6UAAMyepmHi"
      }
    },
    {
      "cell_type": "code",
      "source": [
        "# Preprocess the test data in the same way as the training data\n",
        "# Drop the 'Id' column as it is not a feature\n",
        "dt_processed = dt.drop(columns=[\"Id\"])\n",
        "\n",
        "# Handle missing values in the test data (using median for numerical, mode for categorical)\n",
        "for col in dt_processed.select_dtypes(include=[\"int64\", \"float64\"]).columns:\n",
        "    dt_processed[col].fillna(dt_processed[col].median(), inplace=True)\n",
        "\n",
        "for col in dt_processed.select_dtypes(include=[\"object\"]).columns:\n",
        "    dt_processed[col].fillna(dt_processed[col].mode()[0], inplace=True)\n",
        "\n",
        "# Apply one-hot encoding to the test data\n",
        "dt_processed = pd.get_dummies(dt_processed, drop_first=True)\n",
        "\n",
        "# Align columns - this will add missing columns with 0 and drop extra columns\n",
        "train_cols = X.columns\n",
        "dt_processed = dt_processed.reindex(columns=train_cols, fill_value=0)\n",
        "\n",
        "# Make predictions using the trained Random Forest model\n",
        "y_pred = RF.predict(dt_processed)\n",
        "\n",
        "# Create a submission DataFrame\n",
        "submission_df = pd.DataFrame({\n",
        "    'Id': dt['Id'],  # Use the original Id column from the test data\n",
        "    'SalePrice': y_pred\n",
        "})\n",
        "\n",
        "# Save the submission DataFrame to a CSV file\n",
        "submission_df.to_csv('submission_file.csv', index=False)\n",
        "print(\"Submission file created: submission_file.csv\")"
      ],
      "metadata": {
        "colab": {
          "base_uri": "https://localhost:8080/"
        },
        "id": "CJRAruzTGeoJ",
        "outputId": "d337044f-2c4c-4a89-cb1f-b4f441acd377"
      },
      "execution_count": null,
      "outputs": [
        {
          "output_type": "stream",
          "name": "stdout",
          "text": [
            "Submission file created: submission_file.csv\n"
          ]
        },
        {
          "output_type": "stream",
          "name": "stderr",
          "text": [
            "/tmp/ipython-input-20268436.py:7: FutureWarning: A value is trying to be set on a copy of a DataFrame or Series through chained assignment using an inplace method.\n",
            "The behavior will change in pandas 3.0. This inplace method will never work because the intermediate object on which we are setting values always behaves as a copy.\n",
            "\n",
            "For example, when doing 'df[col].method(value, inplace=True)', try using 'df.method({col: value}, inplace=True)' or df[col] = df[col].method(value) instead, to perform the operation inplace on the original object.\n",
            "\n",
            "\n",
            "  dt_processed[col].fillna(dt_processed[col].median(), inplace=True)\n",
            "/tmp/ipython-input-20268436.py:10: FutureWarning: A value is trying to be set on a copy of a DataFrame or Series through chained assignment using an inplace method.\n",
            "The behavior will change in pandas 3.0. This inplace method will never work because the intermediate object on which we are setting values always behaves as a copy.\n",
            "\n",
            "For example, when doing 'df[col].method(value, inplace=True)', try using 'df.method({col: value}, inplace=True)' or df[col] = df[col].method(value) instead, to perform the operation inplace on the original object.\n",
            "\n",
            "\n",
            "  dt_processed[col].fillna(dt_processed[col].mode()[0], inplace=True)\n"
          ]
        }
      ]
    }
  ],
  "metadata": {
    "colab": {
      "provenance": [],
      "include_colab_link": true
    },
    "kernelspec": {
      "display_name": "Python 3",
      "name": "python3"
    },
    "language_info": {
      "name": "python",
      "version": "3.12.4"
    }
  },
  "nbformat": 4,
  "nbformat_minor": 0
}