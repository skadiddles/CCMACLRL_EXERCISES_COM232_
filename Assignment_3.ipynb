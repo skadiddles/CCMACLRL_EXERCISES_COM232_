{
  "nbformat": 4,
  "nbformat_minor": 0,
  "metadata": {
    "colab": {
      "provenance": [],
      "authorship_tag": "ABX9TyMHK+bu3TfNUqDHqle/PG5S",
      "include_colab_link": true
    },
    "kernelspec": {
      "name": "python3",
      "display_name": "Python 3"
    },
    "language_info": {
      "name": "python"
    }
  },
  "cells": [
    {
      "cell_type": "markdown",
      "metadata": {
        "id": "view-in-github",
        "colab_type": "text"
      },
      "source": [
        "<a href=\"https://colab.research.google.com/github/skadiddles/CCMACLRL_EXERCISES_COM232_/blob/main/Assignment_3.ipynb\" target=\"_parent\"><img src=\"https://colab.research.google.com/assets/colab-badge.svg\" alt=\"Open In Colab\"/></a>"
      ]
    },
    {
      "cell_type": "code",
      "source": [
        "import numpy as np\n",
        "import pandas as pd\n",
        "\n",
        "data = pd.DataFrame({\n",
        "    \"Customer\": [\"A\", \"B\", \"C\", \"D\", \"E\"],\n",
        "    \"x1\": [1, 2, 3, 5, 6],\n",
        "    \"x2\": [4, 3, 7, 2, 6],\n",
        "    \"y\":  [0, 0, 1, 1, 1]\n",
        "})\n",
        "\n",
        "m1, m2, b = 0.8, 0.4, -4.0\n",
        "eta = 0.1\n",
        "\n",
        "def sigmoid(z):\n",
        "    return 1 / (1 + np.exp(-z))\n",
        "\n",
        "def bce_loss(y, y_hat):\n",
        "    return -(y * np.log(y_hat + 1e-10) + (1 - y) * np.log(1 - y_hat + 1e-10))\n"
      ],
      "metadata": {
        "id": "cA4KOfeeUbUj"
      },
      "execution_count": 18,
      "outputs": []
    },
    {
      "cell_type": "markdown",
      "source": [
        "1. Compute Probabilities"
      ],
      "metadata": {
        "id": "UFJBZeF_Urk1"
      }
    },
    {
      "cell_type": "code",
      "source": [
        "data[\"z\"] = m1*data[\"x1\"] + m2*data[\"x2\"] + b\n",
        "data[\"y_hat\"] = sigmoid(data[\"z\"])\n",
        "\n",
        "print(data[[\"Customer\", \"x1\", \"x2\", \"y\", \"y_hat\"]])\n"
      ],
      "metadata": {
        "colab": {
          "base_uri": "https://localhost:8080/"
        },
        "id": "Db570ZH7Ux0y",
        "outputId": "72ea666f-9f02-4d85-9571-2b9775eccb80"
      },
      "execution_count": 19,
      "outputs": [
        {
          "output_type": "stream",
          "name": "stdout",
          "text": [
            "  Customer  x1  x2  y     y_hat\n",
            "0        A   1   4  0  0.167982\n",
            "1        B   2   3  0  0.231475\n",
            "2        C   3   7  1  0.768525\n",
            "3        D   5   2  1  0.689974\n",
            "4        E   6   6  1  0.960834\n"
          ]
        }
      ]
    },
    {
      "cell_type": "markdown",
      "source": [
        "2. Compute Average Loss"
      ],
      "metadata": {
        "id": "KICN9NsXU2i1"
      }
    },
    {
      "cell_type": "code",
      "source": [
        "data[\"Loss\"] = bce_loss(data[\"y\"], data[\"y_hat\"])\n",
        "avg_loss = data[\"Loss\"].mean()\n",
        "\n",
        "print(data[[\"Customer\", \"y_hat\", \"Loss\"]])\n",
        "print(\"\\nAverage Loss =\", round(avg_loss, 3))\n"
      ],
      "metadata": {
        "colab": {
          "base_uri": "https://localhost:8080/"
        },
        "id": "5MtUTiD-U1-A",
        "outputId": "2eea90d2-f61b-42eb-f638-b7fbaf0bc03c"
      },
      "execution_count": 20,
      "outputs": [
        {
          "output_type": "stream",
          "name": "stdout",
          "text": [
            "  Customer     y_hat      Loss\n",
            "0        A  0.167982  0.183901\n",
            "1        B  0.231475  0.263282\n",
            "2        C  0.768525  0.263282\n",
            "3        D  0.689974  0.371101\n",
            "4        E  0.960834  0.039953\n",
            "\n",
            "Average Loss = 0.224\n"
          ]
        }
      ]
    },
    {
      "cell_type": "markdown",
      "source": [
        "3. Update the slope and intercept using Gradient Descent"
      ],
      "metadata": {
        "id": "uqhHq4vPU9TA"
      }
    },
    {
      "cell_type": "code",
      "source": [
        "diff = data[\"y_hat\"] - data[\"y\"]\n",
        "dL_dm1 = np.mean(diff * data[\"x1\"])\n",
        "dL_dm2 = np.mean(diff * data[\"x2\"])\n",
        "dL_db  = np.mean(diff)\n",
        "\n",
        "m1_new = m1 - eta * dL_dm1\n",
        "m2_new = m2 - eta * dL_dm2\n",
        "b_new  = b - eta * dL_db\n",
        "\n",
        "print(\"dL/dm1 =\", round(dL_dm1, 3))\n",
        "print(\"dL/dm2 =\", round(dL_dm2, 3))\n",
        "print(\"dL/db  =\", round(dL_db, 3), \"\\n\")\n",
        "\n",
        "print(\"Updated Parameters:\")\n",
        "print(\"m1 =\", round(m1_new, 3))\n",
        "print(\"m2 =\", round(m2_new, 3))\n",
        "print(\"b  =\", round(b_new, 3))"
      ],
      "metadata": {
        "colab": {
          "base_uri": "https://localhost:8080/"
        },
        "id": "U-GEdt42VCiH",
        "outputId": "4cb79dcb-0740-4e95-8ef9-2e97338cf311"
      },
      "execution_count": 21,
      "outputs": [
        {
          "output_type": "stream",
          "name": "stdout",
          "text": [
            "dL/dm1 = -0.37\n",
            "dL/dm2 = -0.222\n",
            "dL/db  = -0.036 \n",
            "\n",
            "Updated Parameters:\n",
            "m1 = 0.837\n",
            "m2 = 0.422\n",
            "b  = -3.996\n"
          ]
        }
      ]
    },
    {
      "cell_type": "markdown",
      "source": [
        "4. Compute new probabilities using the new slopes and intercept"
      ],
      "metadata": {
        "id": "46kym7dzVk6Y"
      }
    },
    {
      "cell_type": "code",
      "source": [
        "data[\"z_new\"] = m1_new*data[\"x1\"] + m2_new*data[\"x2\"] + b_new\n",
        "data[\"y_hat_new\"] = sigmoid(data[\"z_new\"])\n",
        "\n",
        "print(data[[\"Customer\", \"x1\", \"x2\", \"y\", \"y_hat_new\"]])\n"
      ],
      "metadata": {
        "colab": {
          "base_uri": "https://localhost:8080/"
        },
        "id": "Nw8eSYA_Vm_9",
        "outputId": "55e0f446-27ae-4a74-9334-1d33cfa08ade"
      },
      "execution_count": 24,
      "outputs": [
        {
          "output_type": "stream",
          "name": "stdout",
          "text": [
            "  Customer  x1  x2  y  y_hat_new\n",
            "0        A   1   4  0   0.186839\n",
            "1        B   2   3  0   0.258096\n",
            "2        C   3   7  1   0.813028\n",
            "3        D   5   2  1   0.737467\n",
            "4        E   6   6  1   0.972308\n"
          ]
        }
      ]
    },
    {
      "cell_type": "markdown",
      "source": [
        "5. Compute new Average Loss"
      ],
      "metadata": {
        "id": "i4GNG7MJVpL8"
      }
    },
    {
      "cell_type": "code",
      "source": [
        "data[\"Loss_new\"] = bce_loss(data[\"y\"], data[\"y_hat_new\"])\n",
        "avg_loss_new = data[\"Loss_new\"].mean()\n",
        "\n",
        "print(data[[\"Customer\", \"y_hat_new\", \"Loss_new\"]])\n",
        "print(\"\\nNew Average Loss =\", round(avg_loss_new, 3))\n"
      ],
      "metadata": {
        "colab": {
          "base_uri": "https://localhost:8080/"
        },
        "id": "idoq8p49VsAq",
        "outputId": "0fa5d05f-6440-43ce-a19c-de72601837ee"
      },
      "execution_count": 26,
      "outputs": [
        {
          "output_type": "stream",
          "name": "stdout",
          "text": [
            "  Customer  y_hat_new  Loss_new\n",
            "0        A   0.186839  0.206826\n",
            "1        B   0.258096  0.298535\n",
            "2        C   0.813028  0.206990\n",
            "3        D   0.737467  0.304533\n",
            "4        E   0.972308  0.028082\n",
            "\n",
            "New Average Loss = 0.209\n"
          ]
        }
      ]
    }
  ]
}