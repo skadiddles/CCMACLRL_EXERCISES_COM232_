{
  "nbformat": 4,
  "nbformat_minor": 0,
  "metadata": {
    "colab": {
      "provenance": [],
      "authorship_tag": "ABX9TyOa24HxSJf77k7hgcp3UmzN",
      "include_colab_link": true
    },
    "kernelspec": {
      "name": "python3",
      "display_name": "Python 3"
    },
    "language_info": {
      "name": "python"
    }
  },
  "cells": [
    {
      "cell_type": "markdown",
      "metadata": {
        "id": "view-in-github",
        "colab_type": "text"
      },
      "source": [
        "<a href=\"https://colab.research.google.com/github/skadiddles/CCMACLRL_EXERCISES_COM232_/blob/main/Assignment%201.ipynb\" target=\"_parent\"><img src=\"https://colab.research.google.com/assets/colab-badge.svg\" alt=\"Open In Colab\"/></a>"
      ]
    },
    {
      "cell_type": "markdown",
      "source": [
        "1. Plot all data points using a scatter plot (10 points)"
      ],
      "metadata": {
        "id": "96qboz12QLe5"
      }
    },
    {
      "cell_type": "code",
      "source": [
        "import matplotlib.pyplot as plt\n",
        "import pandas as pd\n",
        "import numpy as np\n",
        "\n",
        "\n",
        "hours_studied = [1, 2, 3, 4.5, 5, 5.5, 6, 7, 8, 9]\n",
        "sleep_hours = [5, 5.5, 6, 5, 6.5, 7, 6, 7, 6, 7.5]\n",
        "pass_fail = [0, 0, 0, 0, 1, 1, 1, 1, 1, 1]\n",
        "\n",
        "unknown_x, unknown_y = 4, 6\n",
        "\n",
        "fail_x = [x for x, y in zip(hours_studied, pass_fail) if y == 0]\n",
        "fail_y = [y for y, z in zip(sleep_hours, pass_fail) if z == 0]\n",
        "\n",
        "pass_x = [x for x, y in zip(hours_studied, pass_fail) if y == 1]\n",
        "pass_y = [y for y, z in zip(sleep_hours, pass_fail) if z == 1]\n",
        "\n",
        "plt.figure(figsize=(8,6))\n",
        "plt.scatter(fail_x, fail_y, marker='o', color='blue', s=100, label=\"Fail\")\n",
        "plt.scatter(pass_x, pass_y, marker='s', color='red', s=100, label=\"Pass\")\n",
        "plt.scatter(unknown_x, unknown_y, marker='*', color='gold', s=200, edgecolors='black', label=\"Unknown\")\n",
        "\n",
        "plt.xlabel(\"Hours Studied (X1)\")\n",
        "plt.ylabel(\"Sleep Hours (X2)\")\n",
        "plt.legend()\n",
        "plt.show()\n"
      ],
      "metadata": {
        "colab": {
          "base_uri": "https://localhost:8080/",
          "height": 542
        },
        "id": "b7aSU69wQeSz",
        "outputId": "7f1375fe-9036-4869-d3f9-5d5c48e5f9d9"
      },
      "execution_count": 36,
      "outputs": [
        {
          "output_type": "display_data",
          "data": {
            "text/plain": [
              "<Figure size 800x600 with 1 Axes>"
            ],
            "image/png": "[encoded data removed]"
          },
          "metadata": {}
        }
      ]
    },
    {
      "cell_type": "markdown",
      "source": [
        "2. Compute Distances (10 points)"
      ],
      "metadata": {
        "id": "sS_Km27HQuCZ"
      }
    },
    {
      "cell_type": "markdown",
      "source": [
        "Solution:"
      ],
      "metadata": {
        "id": "M0QrnGoIQyAS"
      }
    },
    {
      "cell_type": "markdown",
      "source": [
        "Student 1 (1, 5): sqrt((1−4)² + (5−6)²) = sqrt(9 + 1) = sqrt(10) ≈ 3.16\n",
        "\n",
        "Student 2 (2, 5.5): sqrt((2−4)² + (5.5−6)²) = sqrt(4 + 0.25) = sqrt(4.25) ≈ 2.06\n",
        "\n",
        "Student 3 (3, 6): sqrt((3−4)² + (6−6)²) = sqrt(1 + 0) = sqrt(1) = 1.00\n",
        "\n",
        "Student 4 (4.5, 5): sqrt((4.5−4)² + (5−6)²) = sqrt(0.25 + 1) = sqrt(1.25) ≈ 1.12\n",
        "\n",
        "Student 5 (5, 6.5): sqrt((5−4)² + (6.5−6)²) = sqrt(1 + 0.25) = sqrt(1.25) ≈ 1.12\n",
        "\n",
        "Student 6 (5.5, 7): sqrt((5.5−4)² + (7−6)²) = sqrt(2.25 + 1) = sqrt(3.25) ≈ 1.80\n",
        "\n",
        "Student 7 (6, 6): sqrt((6−4)² + (6−6)²) = sqrt(4 + 0) = sqrt(4) = 2.00\n",
        "\n",
        "Student 8 (7, 7): sqrt((7−4)² + (7−6)²) = sqrt(9 + 1) = sqrt(10) ≈ 3.16\n",
        "\n",
        "Student 9 (8, 6): sqrt((8−4)² + (6−6)²) = sqrt(16 + 0) = sqrt(16) = 4.00\n",
        "\n",
        "Student 10 (9, 7.5): sqrt((9−4)² + (7.5−6)²) = sqrt(25 + 2.25) = sqrt(27.25) ≈ 5.22"
      ],
      "metadata": {
        "id": "6A1XJn1NR5kk"
      }
    },
    {
      "cell_type": "markdown",
      "source": [
        "| Student | X1   | X2   | Y | Distance |\n",
        "|---------|------|------|---|----------|\n",
        "| 1       | 1.0  | 5.0  | 0 | 3.16     |\n",
        "| 2       | 2.0  | 5.5  | 0 | 2.06     |\n",
        "| 3       | 3.0  | 6.0  | 0 | 1.00     |\n",
        "| 4       | 4.5  | 5.0  | 0 | 1.12     |\n",
        "| 5       | 5.0  | 6.5  | 1 | 1.12     |\n",
        "| 6       | 5.5  | 7.0  | 1 | 1.80     |\n",
        "| 7       | 6.0  | 6.0  | 1 | 2.00     |\n",
        "| 8       | 7.0  | 7.0  | 1 | 3.16     |\n",
        "| 9       | 8.0  | 6.0  | 1 | 4.00     |\n",
        "| 10      | 9.0  | 7.5  | 1 | 5.22     |"
      ],
      "metadata": {
        "id": "7A9H3ax0TCUP"
      }
    },
    {
      "cell_type": "markdown",
      "source": [
        "2. Find the 3 Nearest Neighbors (3 points)"
      ],
      "metadata": {
        "id": "2KiUKWpUTjk1"
      }
    },
    {
      "cell_type": "markdown",
      "source": [
        "Answer:\n",
        "| Student | X1   | X2   | Y | Distance |\n",
        "|---------|------|------|---|----------|\n",
        "| 1       | 1.0  | 5.0  | 0 | 3.16     |\n",
        "| 2       | 2.0  | 5.5  | 0 | 2.06     |\n",
        "| <<**3**>>       | **3.0**  | **6.0**  | **0** | **1.00**     |\n",
        "| <<**4**>>**bold text**       | **4.5**  | **5.0**  | **0** | **1.12**     |\n",
        "| <<**5**>>       | **5.0** | **6.5**  | **1** | **1.12**     |\n",
        "| 6       | 5.5  | 7.0  | 1 | 1.80     |\n",
        "| 7       | 6.0  | 6.0  | 1 | 2.00     |\n",
        "| 8       | 7.0  | 7.0  | 1 | 3.16     |\n",
        "| 9       | 8.0  | 6.0  | 1 | 4.00     |\n",
        "| 10      | 9.0  | 7.5  | 1 | 5.22     |"
      ],
      "metadata": {
        "id": "z6GiJ0V5T8Lo"
      }
    },
    {
      "cell_type": "markdown",
      "source": [
        "3. Majority Vote (2 points)"
      ],
      "metadata": {
        "id": "hE8cRNAxT-Hm"
      }
    },
    {
      "cell_type": "markdown",
      "source": [
        "Answer:\n",
        "\n",
        "Student 3 → Fail (0)\n",
        "\n",
        "Student 4 → Fail (0)\n",
        "\n",
        "Student 5 → Pass (1)\n",
        "\n",
        "Prediction: A new student who studied 4 hours and slept 6 hours will Fail the exam."
      ],
      "metadata": {
        "id": "W1sID49MVGeO"
      }
    },
    {
      "cell_type": "markdown",
      "source": [
        "4. Discussion Questions (5 points)\n",
        "\n",
        "What was your final prediction?\n",
        "\n",
        "How would the prediction change if we used k = 5 instead of k = 3?"
      ],
      "metadata": {
        "id": "2HnL4luNVdd1"
      }
    },
    {
      "cell_type": "markdown",
      "source": [
        "Answer:\n",
        "\n",
        "My final prediction is the new student will most likely fail the exam (k=3)\n",
        "\n",
        "But if we used k = 5 instead of k = 3. Among the 5 nearest neighbors, 2 are fails and 3 are passes. The prediction would change to passed as per majority vote."
      ],
      "metadata": {
        "id": "OFlJ7RqNVgW1"
      }
    }
  ]
}