{
  "cells": [
    {
      "cell_type": "markdown",
      "metadata": {
        "id": "view-in-github",
        "colab_type": "text"
      },
      "source": [
        "<a href=\"https://colab.research.google.com/github/skadiddles/CCMACLRL_EXERCISES_COM232_/blob/main/Exercise2B.ipynb\" target=\"_parent\"><img src=\"https://colab.research.google.com/assets/colab-badge.svg\" alt=\"Open In Colab\"/></a>"
      ]
    },
    {
      "cell_type": "markdown",
      "source": [
        "# Exercise 2 B"
      ],
      "metadata": {
        "id": "DzE0a2wse5_X"
      }
    },
    {
      "cell_type": "code",
      "execution_count": 2,
      "metadata": {
        "id": "1jGZ4ic7DRL-"
      },
      "outputs": [],
      "source": [
        "import pandas as pd\n",
        "import matplotlib.pyplot as plt\n",
        "import seaborn as sns\n",
        "from sklearn.linear_model import LinearRegression\n",
        "from scipy.stats import pearsonr\n",
        "import statsmodels.api as sm"
      ]
    },
    {
      "cell_type": "code",
      "execution_count": 4,
      "metadata": {
        "id": "ZWwABN_vDXoV"
      },
      "outputs": [],
      "source": [
        "df = pd.read_excel('traveldata.xlsx')"
      ]
    },
    {
      "cell_type": "code",
      "execution_count": 5,
      "metadata": {
        "id": "6uh5EWIaDaum",
        "colab": {
          "base_uri": "https://localhost:8080/",
          "height": 363
        },
        "outputId": "df3ea4c7-6101-4d39-812d-9b11bd187c6a"
      },
      "outputs": [
        {
          "output_type": "execute_result",
          "data": {
            "text/plain": [
              "   Miles Traveled  Number of Deliveries  Gas Price  Travel Time\n",
              "0              89                     4       3.84          7.0\n",
              "1              66                     1       3.19          5.4\n",
              "2              78                     3       3.78          6.6\n",
              "3             111                     6       3.89          7.4\n",
              "4              44                     1       3.57          4.8\n",
              "5              77                     3       3.57          6.4\n",
              "6              80                     3       3.03          7.0\n",
              "7              66                     2       3.51          5.6\n",
              "8             109                     5       3.54          7.3\n",
              "9              76                     3       3.25          6.4"
            ],
            "text/html": [
              "\n",
              "  <div id=\"df-30266f17-5c80-4d1e-9dfa-4a8891a519e4\" class=\"colab-df-container\">\n",
              "    <div>\n",
              "<style scoped>\n",
              "    .dataframe tbody tr th:only-of-type {\n",
              "        vertical-align: middle;\n",
              "    }\n",
              "\n",
              "    .dataframe tbody tr th {\n",
              "        vertical-align: top;\n",
              "    }\n",
              "\n",
              "    .dataframe thead th {\n",
              "        text-align: right;\n",
              "    }\n",
              "</style>\n",
              "<table border=\"1\" class=\"dataframe\">\n",
              "  <thead>\n",
              "    <tr style=\"text-align: right;\">\n",
              "      <th></th>\n",
              "      <th>Miles Traveled</th>\n",
              "      <th>Number of Deliveries</th>\n",
              "      <th>Gas Price</th>\n",
              "      <th>Travel Time</th>\n",
              "    </tr>\n",
              "  </thead>\n",
              "  <tbody>\n",
              "    <tr>\n",
              "      <th>0</th>\n",
              "      <td>89</td>\n",
              "      <td>4</td>\n",
              "      <td>3.84</td>\n",
              "      <td>7.0</td>\n",
              "    </tr>\n",
              "    <tr>\n",
              "      <th>1</th>\n",
              "      <td>66</td>\n",
              "      <td>1</td>\n",
              "      <td>3.19</td>\n",
              "      <td>5.4</td>\n",
              "    </tr>\n",
              "    <tr>\n",
              "      <th>2</th>\n",
              "      <td>78</td>\n",
              "      <td>3</td>\n",
              "      <td>3.78</td>\n",
              "      <td>6.6</td>\n",
              "    </tr>\n",
              "    <tr>\n",
              "      <th>3</th>\n",
              "      <td>111</td>\n",
              "      <td>6</td>\n",
              "      <td>3.89</td>\n",
              "      <td>7.4</td>\n",
              "    </tr>\n",
              "    <tr>\n",
              "      <th>4</th>\n",
              "      <td>44</td>\n",
              "      <td>1</td>\n",
              "      <td>3.57</td>\n",
              "      <td>4.8</td>\n",
              "    </tr>\n",
              "    <tr>\n",
              "      <th>5</th>\n",
              "      <td>77</td>\n",
              "      <td>3</td>\n",
              "      <td>3.57</td>\n",
              "      <td>6.4</td>\n",
              "    </tr>\n",
              "    <tr>\n",
              "      <th>6</th>\n",
              "      <td>80</td>\n",
              "      <td>3</td>\n",
              "      <td>3.03</td>\n",
              "      <td>7.0</td>\n",
              "    </tr>\n",
              "    <tr>\n",
              "      <th>7</th>\n",
              "      <td>66</td>\n",
              "      <td>2</td>\n",
              "      <td>3.51</td>\n",
              "      <td>5.6</td>\n",
              "    </tr>\n",
              "    <tr>\n",
              "      <th>8</th>\n",
              "      <td>109</td>\n",
              "      <td>5</td>\n",
              "      <td>3.54</td>\n",
              "      <td>7.3</td>\n",
              "    </tr>\n",
              "    <tr>\n",
              "      <th>9</th>\n",
              "      <td>76</td>\n",
              "      <td>3</td>\n",
              "      <td>3.25</td>\n",
              "      <td>6.4</td>\n",
              "    </tr>\n",
              "  </tbody>\n",
              "</table>\n",
              "</div>\n",
              "    <div class=\"colab-df-buttons\">\n",
              "\n",
              "  <div class=\"colab-df-container\">\n",
              "    <button class=\"colab-df-convert\" onclick=\"convertToInteractive('df-30266f17-5c80-4d1e-9dfa-4a8891a519e4')\"\n",
              "            title=\"Convert this dataframe to an interactive table.\"\n",
              "            style=\"display:none;\">\n",
              "\n",
              "  <svg xmlns=\"http://www.w3.org/2000/svg\" height=\"24px\" viewBox=\"0 -960 960 960\">\n",
              "    <path d=\"M120-120v-720h720v720H120Zm60-500h600v-160H180v160Zm220 220h160v-160H400v160Zm0 220h160v-160H400v160ZM180-400h160v-160H180v160Zm440 0h160v-160H620v160ZM180-180h160v-160H180v160Zm440 0h160v-160H620v160Z\"/>\n",
              "  </svg>\n",
              "    </button>\n",
              "\n",
              "  <style>\n",
              "    .colab-df-container {\n",
              "      display:flex;\n",
              "      gap: 12px;\n",
              "    }\n",
              "\n",
              "    .colab-df-convert {\n",
              "      background-color: #E8F0FE;\n",
              "      border: none;\n",
              "      border-radius: 50%;\n",
              "      cursor: pointer;\n",
              "      display: none;\n",
              "      fill: #1967D2;\n",
              "      height: 32px;\n",
              "      padding: 0 0 0 0;\n",
              "      width: 32px;\n",
              "    }\n",
              "\n",
              "    .colab-df-convert:hover {\n",
              "      background-color: #E2EBFA;\n",
              "      box-shadow: 0px 1px 2px rgba(60, 64, 67, 0.3), 0px 1px 3px 1px rgba(60, 64, 67, 0.15);\n",
              "      fill: #174EA6;\n",
              "    }\n",
              "\n",
              "    .colab-df-buttons div {\n",
              "      margin-bottom: 4px;\n",
              "    }\n",
              "\n",
              "    [theme=dark] .colab-df-convert {\n",
              "      background-color: #3B4455;\n",
              "      fill: #D2E3FC;\n",
              "    }\n",
              "\n",
              "    [theme=dark] .colab-df-convert:hover {\n",
              "      background-color: #434B5C;\n",
              "      box-shadow: 0px 1px 3px 1px rgba(0, 0, 0, 0.15);\n",
              "      filter: drop-shadow(0px 1px 2px rgba(0, 0, 0, 0.3));\n",
              "      fill: #FFFFFF;\n",
              "    }\n",
              "  </style>\n",
              "\n",
              "    <script>\n",
              "      const buttonEl =\n",
              "        document.querySelector('#df-30266f17-5c80-4d1e-9dfa-4a8891a519e4 button.colab-df-convert');\n",
              "      buttonEl.style.display =\n",
              "        google.colab.kernel.accessAllowed ? 'block' : 'none';\n",
              "\n",
              "      async function convertToInteractive(key) {\n",
              "        const element = document.querySelector('#df-30266f17-5c80-4d1e-9dfa-4a8891a519e4');\n",
              "        const dataTable =\n",
              "          await google.colab.kernel.invokeFunction('convertToInteractive',\n",
              "                                                    [key], {});\n",
              "        if (!dataTable) return;\n",
              "\n",
              "        const docLinkHtml = 'Like what you see? Visit the ' +\n",
              "          '<a target=\"_blank\" href=https://colab.research.google.com/notebooks/data_table.ipynb>data table notebook</a>'\n",
              "          + ' to learn more about interactive tables.';\n",
              "        element.innerHTML = '';\n",
              "        dataTable['output_type'] = 'display_data';\n",
              "        await google.colab.output.renderOutput(dataTable, element);\n",
              "        const docLink = document.createElement('div');\n",
              "        docLink.innerHTML = docLinkHtml;\n",
              "        element.appendChild(docLink);\n",
              "      }\n",
              "    </script>\n",
              "  </div>\n",
              "\n",
              "\n",
              "    <div id=\"df-5ebb10bf-62e1-4f64-b1c8-26ca424c93e6\">\n",
              "      <button class=\"colab-df-quickchart\" onclick=\"quickchart('df-5ebb10bf-62e1-4f64-b1c8-26ca424c93e6')\"\n",
              "                title=\"Suggest charts\"\n",
              "                style=\"display:none;\">\n",
              "\n",
              "<svg xmlns=\"http://www.w3.org/2000/svg\" height=\"24px\"viewBox=\"0 0 24 24\"\n",
              "     width=\"24px\">\n",
              "    <g>\n",
              "        <path d=\"M19 3H5c-1.1 0-2 .9-2 2v14c0 1.1.9 2 2 2h14c1.1 0 2-.9 2-2V5c0-1.1-.9-2-2-2zM9 17H7v-7h2v7zm4 0h-2V7h2v10zm4 0h-2v-4h2v4z\"/>\n",
              "    </g>\n",
              "</svg>\n",
              "      </button>\n",
              "\n",
              "<style>\n",
              "  .colab-df-quickchart {\n",
              "      --bg-color: #E8F0FE;\n",
              "      --fill-color: #1967D2;\n",
              "      --hover-bg-color: #E2EBFA;\n",
              "      --hover-fill-color: #174EA6;\n",
              "      --disabled-fill-color: #AAA;\n",
              "      --disabled-bg-color: #DDD;\n",
              "  }\n",
              "\n",
              "  [theme=dark] .colab-df-quickchart {\n",
              "      --bg-color: #3B4455;\n",
              "      --fill-color: #D2E3FC;\n",
              "      --hover-bg-color: #434B5C;\n",
              "      --hover-fill-color: #FFFFFF;\n",
              "      --disabled-bg-color: #3B4455;\n",
              "      --disabled-fill-color: #666;\n",
              "  }\n",
              "\n",
              "  .colab-df-quickchart {\n",
              "    background-color: var(--bg-color);\n",
              "    border: none;\n",
              "    border-radius: 50%;\n",
              "    cursor: pointer;\n",
              "    display: none;\n",
              "    fill: var(--fill-color);\n",
              "    height: 32px;\n",
              "    padding: 0;\n",
              "    width: 32px;\n",
              "  }\n",
              "\n",
              "  .colab-df-quickchart:hover {\n",
              "    background-color: var(--hover-bg-color);\n",
              "    box-shadow: 0 1px 2px rgba(60, 64, 67, 0.3), 0 1px 3px 1px rgba(60, 64, 67, 0.15);\n",
              "    fill: var(--button-hover-fill-color);\n",
              "  }\n",
              "\n",
              "  .colab-df-quickchart-complete:disabled,\n",
              "  .colab-df-quickchart-complete:disabled:hover {\n",
              "    background-color: var(--disabled-bg-color);\n",
              "    fill: var(--disabled-fill-color);\n",
              "    box-shadow: none;\n",
              "  }\n",
              "\n",
              "  .colab-df-spinner {\n",
              "    border: 2px solid var(--fill-color);\n",
              "    border-color: transparent;\n",
              "    border-bottom-color: var(--fill-color);\n",
              "    animation:\n",
              "      spin 1s steps(1) infinite;\n",
              "  }\n",
              "\n",
              "  @keyframes spin {\n",
              "    0% {\n",
              "      border-color: transparent;\n",
              "      border-bottom-color: var(--fill-color);\n",
              "      border-left-color: var(--fill-color);\n",
              "    }\n",
              "    20% {\n",
              "      border-color: transparent;\n",
              "      border-left-color: var(--fill-color);\n",
              "      border-top-color: var(--fill-color);\n",
              "    }\n",
              "    30% {\n",
              "      border-color: transparent;\n",
              "      border-left-color: var(--fill-color);\n",
              "      border-top-color: var(--fill-color);\n",
              "      border-right-color: var(--fill-color);\n",
              "    }\n",
              "    40% {\n",
              "      border-color: transparent;\n",
              "      border-right-color: var(--fill-color);\n",
              "      border-top-color: var(--fill-color);\n",
              "    }\n",
              "    60% {\n",
              "      border-color: transparent;\n",
              "      border-right-color: var(--fill-color);\n",
              "    }\n",
              "    80% {\n",
              "      border-color: transparent;\n",
              "      border-right-color: var(--fill-color);\n",
              "      border-bottom-color: var(--fill-color);\n",
              "    }\n",
              "    90% {\n",
              "      border-color: transparent;\n",
              "      border-bottom-color: var(--fill-color);\n",
              "    }\n",
              "  }\n",
              "</style>\n",
              "\n",
              "      <script>\n",
              "        async function quickchart(key) {\n",
              "          const quickchartButtonEl =\n",
              "            document.querySelector('#' + key + ' button');\n",
              "          quickchartButtonEl.disabled = true;  // To prevent multiple clicks.\n",
              "          quickchartButtonEl.classList.add('colab-df-spinner');\n",
              "          try {\n",
              "            const charts = await google.colab.kernel.invokeFunction(\n",
              "                'suggestCharts', [key], {});\n",
              "          } catch (error) {\n",
              "            console.error('Error during call to suggestCharts:', error);\n",
              "          }\n",
              "          quickchartButtonEl.classList.remove('colab-df-spinner');\n",
              "          quickchartButtonEl.classList.add('colab-df-quickchart-complete');\n",
              "        }\n",
              "        (() => {\n",
              "          let quickchartButtonEl =\n",
              "            document.querySelector('#df-5ebb10bf-62e1-4f64-b1c8-26ca424c93e6 button');\n",
              "          quickchartButtonEl.style.display =\n",
              "            google.colab.kernel.accessAllowed ? 'block' : 'none';\n",
              "        })();\n",
              "      </script>\n",
              "    </div>\n",
              "\n",
              "  <div id=\"id_35948600-7113-4fd8-aab7-5c2f5e154eab\">\n",
              "    <style>\n",
              "      .colab-df-generate {\n",
              "        background-color: #E8F0FE;\n",
              "        border: none;\n",
              "        border-radius: 50%;\n",
              "        cursor: pointer;\n",
              "        display: none;\n",
              "        fill: #1967D2;\n",
              "        height: 32px;\n",
              "        padding: 0 0 0 0;\n",
              "        width: 32px;\n",
              "      }\n",
              "\n",
              "      .colab-df-generate:hover {\n",
              "        background-color: #E2EBFA;\n",
              "        box-shadow: 0px 1px 2px rgba(60, 64, 67, 0.3), 0px 1px 3px 1px rgba(60, 64, 67, 0.15);\n",
              "        fill: #174EA6;\n",
              "      }\n",
              "\n",
              "      [theme=dark] .colab-df-generate {\n",
              "        background-color: #3B4455;\n",
              "        fill: #D2E3FC;\n",
              "      }\n",
              "\n",
              "      [theme=dark] .colab-df-generate:hover {\n",
              "        background-color: #434B5C;\n",
              "        box-shadow: 0px 1px 3px 1px rgba(0, 0, 0, 0.15);\n",
              "        filter: drop-shadow(0px 1px 2px rgba(0, 0, 0, 0.3));\n",
              "        fill: #FFFFFF;\n",
              "      }\n",
              "    </style>\n",
              "    <button class=\"colab-df-generate\" onclick=\"generateWithVariable('df')\"\n",
              "            title=\"Generate code using this dataframe.\"\n",
              "            style=\"display:none;\">\n",
              "\n",
              "  <svg xmlns=\"http://www.w3.org/2000/svg\" height=\"24px\"viewBox=\"0 0 24 24\"\n",
              "       width=\"24px\">\n",
              "    <path d=\"M7,19H8.4L18.45,9,17,7.55,7,17.6ZM5,21V16.75L18.45,3.32a2,2,0,0,1,2.83,0l1.4,1.43a1.91,1.91,0,0,1,.58,1.4,1.91,1.91,0,0,1-.58,1.4L9.25,21ZM18.45,9,17,7.55Zm-12,3A5.31,5.31,0,0,0,4.9,8.1,5.31,5.31,0,0,0,1,6.5,5.31,5.31,0,0,0,4.9,4.9,5.31,5.31,0,0,0,6.5,1,5.31,5.31,0,0,0,8.1,4.9,5.31,5.31,0,0,0,12,6.5,5.46,5.46,0,0,0,6.5,12Z\"/>\n",
              "  </svg>\n",
              "    </button>\n",
              "    <script>\n",
              "      (() => {\n",
              "      const buttonEl =\n",
              "        document.querySelector('#id_35948600-7113-4fd8-aab7-5c2f5e154eab button.colab-df-generate');\n",
              "      buttonEl.style.display =\n",
              "        google.colab.kernel.accessAllowed ? 'block' : 'none';\n",
              "\n",
              "      buttonEl.onclick = () => {\n",
              "        google.colab.notebook.generateWithVariable('df');\n",
              "      }\n",
              "      })();\n",
              "    </script>\n",
              "  </div>\n",
              "\n",
              "    </div>\n",
              "  </div>\n"
            ],
            "application/vnd.google.colaboratory.intrinsic+json": {
              "type": "dataframe",
              "variable_name": "df",
              "summary": "{\n  \"name\": \"df\",\n  \"rows\": 10,\n  \"fields\": [\n    {\n      \"column\": \"Miles Traveled\",\n      \"properties\": {\n        \"dtype\": \"number\",\n        \"std\": 19,\n        \"min\": 44,\n        \"max\": 111,\n        \"num_unique_values\": 9,\n        \"samples\": [\n          109,\n          66,\n          77\n        ],\n        \"semantic_type\": \"\",\n        \"description\": \"\"\n      }\n    },\n    {\n      \"column\": \"Number of Deliveries\",\n      \"properties\": {\n        \"dtype\": \"number\",\n        \"std\": 1,\n        \"min\": 1,\n        \"max\": 6,\n        \"num_unique_values\": 6,\n        \"samples\": [\n          4,\n          1,\n          5\n        ],\n        \"semantic_type\": \"\",\n        \"description\": \"\"\n      }\n    },\n    {\n      \"column\": \"Gas Price\",\n      \"properties\": {\n        \"dtype\": \"number\",\n        \"std\": 0.2856201829158592,\n        \"min\": 3.03,\n        \"max\": 3.89,\n        \"num_unique_values\": 9,\n        \"samples\": [\n          3.54,\n          3.19,\n          3.03\n        ],\n        \"semantic_type\": \"\",\n        \"description\": \"\"\n      }\n    },\n    {\n      \"column\": \"Travel Time\",\n      \"properties\": {\n        \"dtype\": \"number\",\n        \"std\": 0.8672433978480961,\n        \"min\": 4.8,\n        \"max\": 7.4,\n        \"num_unique_values\": 8,\n        \"samples\": [\n          5.4,\n          6.4,\n          7.0\n        ],\n        \"semantic_type\": \"\",\n        \"description\": \"\"\n      }\n    }\n  ]\n}"
            }
          },
          "metadata": {},
          "execution_count": 5
        }
      ],
      "source": [
        "df"
      ]
    },
    {
      "cell_type": "markdown",
      "metadata": {
        "id": "0e7F0WCne-8o"
      },
      "source": [
        "## A. Correlation"
      ]
    },
    {
      "cell_type": "markdown",
      "metadata": {
        "id": "U08ybiFgMbQ7"
      },
      "source": [
        "### Check the relationships between each independent variable and the dependent variable using scatterplots and correlations."
      ]
    },
    {
      "cell_type": "markdown",
      "source": [
        "1. Create scatter plot between miles traveled and travel time"
      ],
      "metadata": {
        "id": "wRYSx_gUbb3N"
      }
    },
    {
      "cell_type": "code",
      "execution_count": 6,
      "metadata": {
        "id": "h7_ZHYhYDuSe",
        "colab": {
          "base_uri": "https://localhost:8080/",
          "height": 451
        },
        "outputId": "50fcedaf-2258-40da-b666-b9e7706bfc91"
      },
      "outputs": [
        {
          "output_type": "display_data",
          "data": {
            "text/plain": [
              "<Figure size 640x480 with 1 Axes>"
            ],
            "image/png": "[encoded data removed]"
          },
          "metadata": {}
        }
      ],
      "source": [
        "plt.scatter(df[\"Miles Traveled\"],\n",
        "            df[\"Travel Time\"])\n",
        "\n",
        "plt.xlabel(\"Miles Traveled\")\n",
        "plt.ylabel(\"Travel Time\")\n",
        "plt.show()"
      ]
    },
    {
      "cell_type": "markdown",
      "source": [
        "2. Create scatter plot between number of deliveries and travel time"
      ],
      "metadata": {
        "id": "VNOMGC4tblzn"
      }
    },
    {
      "cell_type": "code",
      "execution_count": 7,
      "metadata": {
        "id": "4HE-5zP9EFx0",
        "colab": {
          "base_uri": "https://localhost:8080/",
          "height": 451
        },
        "outputId": "fe7872f6-03c1-4c01-c72c-5df7b3498835"
      },
      "outputs": [
        {
          "output_type": "display_data",
          "data": {
            "text/plain": [
              "<Figure size 640x480 with 1 Axes>"
            ],
            "image/png": "[encoded data removed]"
          },
          "metadata": {}
        }
      ],
      "source": [
        "plt.scatter(df[\"Number of Deliveries\"],\n",
        "            df[\"Travel Time\"])\n",
        "\n",
        "plt.xlabel(\"Number of Deliveries\")\n",
        "plt.ylabel(\"Travel Time\")\n",
        "plt.show()"
      ]
    },
    {
      "cell_type": "markdown",
      "source": [
        "3. Create scatter plot between Gas Price and Travel time"
      ],
      "metadata": {
        "id": "MtjV8Zl5bquY"
      }
    },
    {
      "cell_type": "code",
      "execution_count": 8,
      "metadata": {
        "id": "kWtQ4QKcEeVU",
        "colab": {
          "base_uri": "https://localhost:8080/",
          "height": 451
        },
        "outputId": "bc1efac4-e960-4cd2-fb37-e5dedc0ab1f3"
      },
      "outputs": [
        {
          "output_type": "display_data",
          "data": {
            "text/plain": [
              "<Figure size 640x480 with 1 Axes>"
            ],
            "image/png": "[encoded data removed]"
          },
          "metadata": {}
        }
      ],
      "source": [
        "plt.scatter(df[\"Gas Price\"],\n",
        "            df[\"Travel Time\"])\n",
        "\n",
        "plt.xlabel(\"Gas Price\")\n",
        "plt.ylabel(\"Travel Time\")\n",
        "plt.show()"
      ]
    },
    {
      "cell_type": "markdown",
      "source": [
        "4. Create a pairplot"
      ],
      "metadata": {
        "id": "Y-5Oe1aTb1ML"
      }
    },
    {
      "cell_type": "code",
      "execution_count": 11,
      "metadata": {
        "id": "8eJqX_RXTFCA",
        "colab": {
          "base_uri": "https://localhost:8080/",
          "height": 1000
        },
        "outputId": "60b8851e-cb24-4273-c50c-5af256237ce3"
      },
      "outputs": [
        {
          "output_type": "execute_result",
          "data": {
            "text/plain": [
              "<seaborn.axisgrid.PairGrid at 0x78e594262a10>"
            ]
          },
          "metadata": {},
          "execution_count": 11
        },
        {
          "output_type": "display_data",
          "data": {
            "text/plain": [
              "<Figure size 1000x1000 with 4 Axes>"
            ],
            "image/png": "[encoded data removed]"
          },
          "metadata": {}
        },
        {
          "output_type": "display_data",
          "data": {
            "text/plain": [
              "<Figure size 800x800 with 20 Axes>"
            ],
            "image/png": "[encoded data removed]"
          },
          "metadata": {}
        }
      ],
      "source": [
        "fig, ax = plt.subplots(2,2, figsize=(10,10))\n",
        "\n",
        "ax[0, 0].scatter(df[\"Miles Traveled\"], df[\"Travel Time\"])\n",
        "ax[0, 1].scatter(df[\"Number of Deliveries\"], df[\"Travel Time\"])\n",
        "ax[1, 0].scatter(df[\"Gas Price\"], df[\"Travel Time\"])\n",
        "\n",
        "ax[0, 0].set_title(\"Miles Travel and Travel Time\")\n",
        "ax[0, 1].set_title(\"Number of Deliveries and Travel Time\")\n",
        "ax[1, 0].set_title(\"Gas Price and Travel Time\")\n",
        "\n",
        "sns.set_palette('colorblind')\n",
        "sns.pairplot(data=df, height=2)\n",
        ""
      ]
    },
    {
      "cell_type": "markdown",
      "source": [
        "5. Calculate r-squared and p-value between Miles Traveled and Travel Time"
      ],
      "metadata": {
        "id": "N2Cwy4EZb6CY"
      }
    },
    {
      "cell_type": "code",
      "execution_count": 12,
      "metadata": {
        "id": "z85FNuL3XykJ",
        "colab": {
          "base_uri": "https://localhost:8080/"
        },
        "outputId": "dae47999-4d99-49e9-d9e1-63318e90041f"
      },
      "outputs": [
        {
          "output_type": "stream",
          "name": "stdout",
          "text": [
            "Miles Traveled and Travel Time\n",
            "correlation coefficient: 0.928178500887476\n",
            "p-value: 0.00010667565429896801\n"
          ]
        }
      ],
      "source": [
        "result = pearsonr(df['Miles Traveled'], df['Travel Time'])\n",
        "print(\"Miles Traveled and Travel Time\")\n",
        "print(\"correlation coefficient:\", result[0])\n",
        "print(\"p-value:\", result[1])"
      ]
    },
    {
      "cell_type": "markdown",
      "source": [
        "6. Calculate r-squared and p-value between Number of Deliveries and Travel Time"
      ],
      "metadata": {
        "id": "V0tmekGtcEBS"
      }
    },
    {
      "cell_type": "code",
      "execution_count": 13,
      "metadata": {
        "id": "V5GzGetxZyJj",
        "colab": {
          "base_uri": "https://localhost:8080/"
        },
        "outputId": "e22efac7-1fdc-42fe-dc38-1e9c7dfb862b"
      },
      "outputs": [
        {
          "output_type": "stream",
          "name": "stdout",
          "text": [
            "Number of Deliveries and Travel Time\n",
            "correlation coefficient: 0.9164433964470268\n",
            "p-value: 0.00019260878342962958\n"
          ]
        }
      ],
      "source": [
        "result = pearsonr(df['Number of Deliveries'], df['Travel Time'])\n",
        "print(\"Number of Deliveries and Travel Time\")\n",
        "print(\"correlation coefficient:\", result[0])\n",
        "print(\"p-value:\", result[1])"
      ]
    },
    {
      "cell_type": "markdown",
      "source": [
        "7. Calculate r-squared and p-value between Gas Price and Travel Time"
      ],
      "metadata": {
        "id": "zt28PWuxcPNm"
      }
    },
    {
      "cell_type": "code",
      "execution_count": 14,
      "metadata": {
        "id": "i4XIek0XaF0H",
        "colab": {
          "base_uri": "https://localhost:8080/"
        },
        "outputId": "de91fe42-6b15-4647-b3e8-e73471fe258a"
      },
      "outputs": [
        {
          "output_type": "stream",
          "name": "stdout",
          "text": [
            "Gas Price and Travel Time\n",
            "correlation coefficient: 0.2672115310193847\n",
            "p-value: 0.45545341268508155\n"
          ]
        }
      ],
      "source": [
        "result = pearsonr(df['Gas Price'], df['Travel Time'])\n",
        "print(\"Gas Price and Travel Time\")\n",
        "print(\"correlation coefficient:\", result[0])\n",
        "print(\"p-value:\", result[1])"
      ]
    },
    {
      "cell_type": "markdown",
      "metadata": {
        "id": "m0LFj6GwMmmT"
      },
      "source": [
        "### Check the relationships among the independent variables using scatterplots and correlations."
      ]
    },
    {
      "cell_type": "markdown",
      "source": [
        "8. Create scatter plot between Miles Traveled and Number of Deliveries."
      ],
      "metadata": {
        "id": "KzhtMwk9cgUc"
      }
    },
    {
      "cell_type": "code",
      "execution_count": 15,
      "metadata": {
        "id": "fkCUT89bMsOo",
        "colab": {
          "base_uri": "https://localhost:8080/",
          "height": 449
        },
        "outputId": "b10596ff-a8f9-4bde-b074-9ae12887eafa"
      },
      "outputs": [
        {
          "output_type": "display_data",
          "data": {
            "text/plain": [
              "<Figure size 640x480 with 1 Axes>"
            ],
            "image/png": "[encoded data removed]"
          },
          "metadata": {}
        }
      ],
      "source": [
        "plt.scatter(df[\"Miles Traveled\"],\n",
        "            df[\"Number of Deliveries\"])\n",
        "\n",
        "plt.xlabel(\"Miles Traveled\")\n",
        "plt.ylabel(\"Number of Deliveries\")\n",
        "plt.show()"
      ]
    },
    {
      "cell_type": "markdown",
      "source": [
        "9. Create scatter plot between Miles traveled and Gas Price"
      ],
      "metadata": {
        "id": "9Vt6fAWHcpNs"
      }
    },
    {
      "cell_type": "code",
      "execution_count": 16,
      "metadata": {
        "id": "FkwyhaaxMwOE",
        "colab": {
          "base_uri": "https://localhost:8080/",
          "height": 449
        },
        "outputId": "b9f52e25-a711-4350-c466-63375f970944"
      },
      "outputs": [
        {
          "output_type": "display_data",
          "data": {
            "text/plain": [
              "<Figure size 640x480 with 1 Axes>"
            ],
            "image/png": "[encoded data removed]"
          },
          "metadata": {}
        }
      ],
      "source": [
        "plt.scatter(df[\"Miles Traveled\"],\n",
        "            df[\"Gas Price\"])\n",
        "\n",
        "plt.xlabel(\"Miles Traveled\")\n",
        "plt.ylabel(\"Gas Price\")\n",
        "plt.show()"
      ]
    },
    {
      "cell_type": "markdown",
      "source": [
        "10. Create scatter plot between Number of Deliveries and Gas Price"
      ],
      "metadata": {
        "id": "MLIy3oRecvZi"
      }
    },
    {
      "cell_type": "code",
      "execution_count": 17,
      "metadata": {
        "id": "e0rICg_lM3c3",
        "colab": {
          "base_uri": "https://localhost:8080/",
          "height": 449
        },
        "outputId": "424df2d1-e4a9-4fff-e317-cdfb7548cb69"
      },
      "outputs": [
        {
          "output_type": "display_data",
          "data": {
            "text/plain": [
              "<Figure size 640x480 with 1 Axes>"
            ],
            "image/png": "[encoded data removed]"
          },
          "metadata": {}
        }
      ],
      "source": [
        "plt.scatter(df[\"Number of Deliveries\"],\n",
        "            df[\"Gas Price\"])\n",
        "\n",
        "plt.xlabel(\"Number of Deliveries\")\n",
        "plt.ylabel(\"Gas Price\")\n",
        "plt.show()"
      ]
    },
    {
      "cell_type": "markdown",
      "source": [
        "11. Calculate r-squared and p-value between Miles Traveled and Number of Deliveries"
      ],
      "metadata": {
        "id": "SQsY1LuLc7hj"
      }
    },
    {
      "cell_type": "code",
      "execution_count": 18,
      "metadata": {
        "id": "Gg16fgdqbPgf",
        "colab": {
          "base_uri": "https://localhost:8080/"
        },
        "outputId": "a3813f2e-275f-4d33-e4d4-2146ff4fff35"
      },
      "outputs": [
        {
          "output_type": "stream",
          "name": "stdout",
          "text": [
            "Miles Traveled and Number of Deliveries\n",
            "correlation coefficient: 0.9558982066200347\n",
            "p-value: 1.5690314407660616e-05\n"
          ]
        }
      ],
      "source": [
        "result = pearsonr(df['Miles Traveled'], df['Number of Deliveries'])\n",
        "print(\"Miles Traveled and Number of Deliveries\")\n",
        "print(\"correlation coefficient:\", result[0])\n",
        "print(\"p-value:\", result[1])"
      ]
    },
    {
      "cell_type": "markdown",
      "source": [
        "12. Calculate r-squared and p-value between Miles Traveled and Gas Price"
      ],
      "metadata": {
        "id": "gsHXLDy8dEd8"
      }
    },
    {
      "cell_type": "code",
      "execution_count": 19,
      "metadata": {
        "id": "1RLWTs82bb3t",
        "colab": {
          "base_uri": "https://localhost:8080/"
        },
        "outputId": "62de8ccf-2c90-4bc5-9390-4095fc30f3b8"
      },
      "outputs": [
        {
          "output_type": "stream",
          "name": "stdout",
          "text": [
            "Miles Traveled and Gas Price\n",
            "correlation coefficient: 0.35579623354708517\n",
            "p-value: 0.31296405908178965\n"
          ]
        }
      ],
      "source": [
        "result = pearsonr(df['Miles Traveled'], df['Gas Price'])\n",
        "print(\"Miles Traveled and Gas Price\")\n",
        "print(\"correlation coefficient:\", result[0])\n",
        "print(\"p-value:\", result[1])\n"
      ]
    },
    {
      "cell_type": "markdown",
      "source": [
        "13. Calculate r-squared and p-value between Number of Deliveries and Gas Price"
      ],
      "metadata": {
        "id": "B9_ehI_TdGjv"
      }
    },
    {
      "cell_type": "code",
      "execution_count": 20,
      "metadata": {
        "id": "schBTh7hbmmw",
        "colab": {
          "base_uri": "https://localhost:8080/"
        },
        "outputId": "e9df8a41-fdad-4949-a69a-fd942c20c503"
      },
      "outputs": [
        {
          "output_type": "stream",
          "name": "stdout",
          "text": [
            "Number of Deliveries and Gas Price\n",
            "correlation coefficient: 0.4982421647401633\n",
            "p-value: 0.142741207670319\n"
          ]
        }
      ],
      "source": [
        "result = pearsonr(df['Number of Deliveries'], df['Gas Price'])\n",
        "print(\"Number of Deliveries and Gas Price\")\n",
        "print(\"correlation coefficient:\", result[0])\n",
        "print(\"p-value:\", result[1])\n"
      ]
    },
    {
      "cell_type": "markdown",
      "metadata": {
        "id": "7vtm7gQFc8Am"
      },
      "source": [
        "### Correlation Summary"
      ]
    },
    {
      "cell_type": "markdown",
      "source": [
        "14. Create the correlation summary"
      ],
      "metadata": {
        "id": "9ZkVzcUndOjU"
      }
    },
    {
      "cell_type": "code",
      "execution_count": 21,
      "metadata": {
        "id": "ti0mQdimO_S5",
        "colab": {
          "base_uri": "https://localhost:8080/",
          "height": 175
        },
        "outputId": "47f426d3-cf93-4786-bcc2-ceeceaae4f49"
      },
      "outputs": [
        {
          "output_type": "execute_result",
          "data": {
            "text/plain": [
              "                      Miles Traveled  Number of Deliveries  Gas Price  \\\n",
              "Miles Traveled              1.000000              0.955898   0.355796   \n",
              "Number of Deliveries        0.955898              1.000000   0.498242   \n",
              "Gas Price                   0.355796              0.498242   1.000000   \n",
              "Travel Time                 0.928179              0.916443   0.267212   \n",
              "\n",
              "                      Travel Time  \n",
              "Miles Traveled           0.928179  \n",
              "Number of Deliveries     0.916443  \n",
              "Gas Price                0.267212  \n",
              "Travel Time              1.000000  "
            ],
            "text/html": [
              "\n",
              "  <div id=\"df-a62ba87b-eff1-4bb4-bbee-e324ea00f3d6\" class=\"colab-df-container\">\n",
              "    <div>\n",
              "<style scoped>\n",
              "    .dataframe tbody tr th:only-of-type {\n",
              "        vertical-align: middle;\n",
              "    }\n",
              "\n",
              "    .dataframe tbody tr th {\n",
              "        vertical-align: top;\n",
              "    }\n",
              "\n",
              "    .dataframe thead th {\n",
              "        text-align: right;\n",
              "    }\n",
              "</style>\n",
              "<table border=\"1\" class=\"dataframe\">\n",
              "  <thead>\n",
              "    <tr style=\"text-align: right;\">\n",
              "      <th></th>\n",
              "      <th>Miles Traveled</th>\n",
              "      <th>Number of Deliveries</th>\n",
              "      <th>Gas Price</th>\n",
              "      <th>Travel Time</th>\n",
              "    </tr>\n",
              "  </thead>\n",
              "  <tbody>\n",
              "    <tr>\n",
              "      <th>Miles Traveled</th>\n",
              "      <td>1.000000</td>\n",
              "      <td>0.955898</td>\n",
              "      <td>0.355796</td>\n",
              "      <td>0.928179</td>\n",
              "    </tr>\n",
              "    <tr>\n",
              "      <th>Number of Deliveries</th>\n",
              "      <td>0.955898</td>\n",
              "      <td>1.000000</td>\n",
              "      <td>0.498242</td>\n",
              "      <td>0.916443</td>\n",
              "    </tr>\n",
              "    <tr>\n",
              "      <th>Gas Price</th>\n",
              "      <td>0.355796</td>\n",
              "      <td>0.498242</td>\n",
              "      <td>1.000000</td>\n",
              "      <td>0.267212</td>\n",
              "    </tr>\n",
              "    <tr>\n",
              "      <th>Travel Time</th>\n",
              "      <td>0.928179</td>\n",
              "      <td>0.916443</td>\n",
              "      <td>0.267212</td>\n",
              "      <td>1.000000</td>\n",
              "    </tr>\n",
              "  </tbody>\n",
              "</table>\n",
              "</div>\n",
              "    <div class=\"colab-df-buttons\">\n",
              "\n",
              "  <div class=\"colab-df-container\">\n",
              "    <button class=\"colab-df-convert\" onclick=\"convertToInteractive('df-a62ba87b-eff1-4bb4-bbee-e324ea00f3d6')\"\n",
              "            title=\"Convert this dataframe to an interactive table.\"\n",
              "            style=\"display:none;\">\n",
              "\n",
              "  <svg xmlns=\"http://www.w3.org/2000/svg\" height=\"24px\" viewBox=\"0 -960 960 960\">\n",
              "    <path d=\"M120-120v-720h720v720H120Zm60-500h600v-160H180v160Zm220 220h160v-160H400v160Zm0 220h160v-160H400v160ZM180-400h160v-160H180v160Zm440 0h160v-160H620v160ZM180-180h160v-160H180v160Zm440 0h160v-160H620v160Z\"/>\n",
              "  </svg>\n",
              "    </button>\n",
              "\n",
              "  <style>\n",
              "    .colab-df-container {\n",
              "      display:flex;\n",
              "      gap: 12px;\n",
              "    }\n",
              "\n",
              "    .colab-df-convert {\n",
              "      background-color: #E8F0FE;\n",
              "      border: none;\n",
              "      border-radius: 50%;\n",
              "      cursor: pointer;\n",
              "      display: none;\n",
              "      fill: #1967D2;\n",
              "      height: 32px;\n",
              "      padding: 0 0 0 0;\n",
              "      width: 32px;\n",
              "    }\n",
              "\n",
              "    .colab-df-convert:hover {\n",
              "      background-color: #E2EBFA;\n",
              "      box-shadow: 0px 1px 2px rgba(60, 64, 67, 0.3), 0px 1px 3px 1px rgba(60, 64, 67, 0.15);\n",
              "      fill: #174EA6;\n",
              "    }\n",
              "\n",
              "    .colab-df-buttons div {\n",
              "      margin-bottom: 4px;\n",
              "    }\n",
              "\n",
              "    [theme=dark] .colab-df-convert {\n",
              "      background-color: #3B4455;\n",
              "      fill: #D2E3FC;\n",
              "    }\n",
              "\n",
              "    [theme=dark] .colab-df-convert:hover {\n",
              "      background-color: #434B5C;\n",
              "      box-shadow: 0px 1px 3px 1px rgba(0, 0, 0, 0.15);\n",
              "      filter: drop-shadow(0px 1px 2px rgba(0, 0, 0, 0.3));\n",
              "      fill: #FFFFFF;\n",
              "    }\n",
              "  </style>\n",
              "\n",
              "    <script>\n",
              "      const buttonEl =\n",
              "        document.querySelector('#df-a62ba87b-eff1-4bb4-bbee-e324ea00f3d6 button.colab-df-convert');\n",
              "      buttonEl.style.display =\n",
              "        google.colab.kernel.accessAllowed ? 'block' : 'none';\n",
              "\n",
              "      async function convertToInteractive(key) {\n",
              "        const element = document.querySelector('#df-a62ba87b-eff1-4bb4-bbee-e324ea00f3d6');\n",
              "        const dataTable =\n",
              "          await google.colab.kernel.invokeFunction('convertToInteractive',\n",
              "                                                    [key], {});\n",
              "        if (!dataTable) return;\n",
              "\n",
              "        const docLinkHtml = 'Like what you see? Visit the ' +\n",
              "          '<a target=\"_blank\" href=https://colab.research.google.com/notebooks/data_table.ipynb>data table notebook</a>'\n",
              "          + ' to learn more about interactive tables.';\n",
              "        element.innerHTML = '';\n",
              "        dataTable['output_type'] = 'display_data';\n",
              "        await google.colab.output.renderOutput(dataTable, element);\n",
              "        const docLink = document.createElement('div');\n",
              "        docLink.innerHTML = docLinkHtml;\n",
              "        element.appendChild(docLink);\n",
              "      }\n",
              "    </script>\n",
              "  </div>\n",
              "\n",
              "\n",
              "    <div id=\"df-ebb10a72-1464-42ca-8a0f-d4423d5c3ff3\">\n",
              "      <button class=\"colab-df-quickchart\" onclick=\"quickchart('df-ebb10a72-1464-42ca-8a0f-d4423d5c3ff3')\"\n",
              "                title=\"Suggest charts\"\n",
              "                style=\"display:none;\">\n",
              "\n",
              "<svg xmlns=\"http://www.w3.org/2000/svg\" height=\"24px\"viewBox=\"0 0 24 24\"\n",
              "     width=\"24px\">\n",
              "    <g>\n",
              "        <path d=\"M19 3H5c-1.1 0-2 .9-2 2v14c0 1.1.9 2 2 2h14c1.1 0 2-.9 2-2V5c0-1.1-.9-2-2-2zM9 17H7v-7h2v7zm4 0h-2V7h2v10zm4 0h-2v-4h2v4z\"/>\n",
              "    </g>\n",
              "</svg>\n",
              "      </button>\n",
              "\n",
              "<style>\n",
              "  .colab-df-quickchart {\n",
              "      --bg-color: #E8F0FE;\n",
              "      --fill-color: #1967D2;\n",
              "      --hover-bg-color: #E2EBFA;\n",
              "      --hover-fill-color: #174EA6;\n",
              "      --disabled-fill-color: #AAA;\n",
              "      --disabled-bg-color: #DDD;\n",
              "  }\n",
              "\n",
              "  [theme=dark] .colab-df-quickchart {\n",
              "      --bg-color: #3B4455;\n",
              "      --fill-color: #D2E3FC;\n",
              "      --hover-bg-color: #434B5C;\n",
              "      --hover-fill-color: #FFFFFF;\n",
              "      --disabled-bg-color: #3B4455;\n",
              "      --disabled-fill-color: #666;\n",
              "  }\n",
              "\n",
              "  .colab-df-quickchart {\n",
              "    background-color: var(--bg-color);\n",
              "    border: none;\n",
              "    border-radius: 50%;\n",
              "    cursor: pointer;\n",
              "    display: none;\n",
              "    fill: var(--fill-color);\n",
              "    height: 32px;\n",
              "    padding: 0;\n",
              "    width: 32px;\n",
              "  }\n",
              "\n",
              "  .colab-df-quickchart:hover {\n",
              "    background-color: var(--hover-bg-color);\n",
              "    box-shadow: 0 1px 2px rgba(60, 64, 67, 0.3), 0 1px 3px 1px rgba(60, 64, 67, 0.15);\n",
              "    fill: var(--button-hover-fill-color);\n",
              "  }\n",
              "\n",
              "  .colab-df-quickchart-complete:disabled,\n",
              "  .colab-df-quickchart-complete:disabled:hover {\n",
              "    background-color: var(--disabled-bg-color);\n",
              "    fill: var(--disabled-fill-color);\n",
              "    box-shadow: none;\n",
              "  }\n",
              "\n",
              "  .colab-df-spinner {\n",
              "    border: 2px solid var(--fill-color);\n",
              "    border-color: transparent;\n",
              "    border-bottom-color: var(--fill-color);\n",
              "    animation:\n",
              "      spin 1s steps(1) infinite;\n",
              "  }\n",
              "\n",
              "  @keyframes spin {\n",
              "    0% {\n",
              "      border-color: transparent;\n",
              "      border-bottom-color: var(--fill-color);\n",
              "      border-left-color: var(--fill-color);\n",
              "    }\n",
              "    20% {\n",
              "      border-color: transparent;\n",
              "      border-left-color: var(--fill-color);\n",
              "      border-top-color: var(--fill-color);\n",
              "    }\n",
              "    30% {\n",
              "      border-color: transparent;\n",
              "      border-left-color: var(--fill-color);\n",
              "      border-top-color: var(--fill-color);\n",
              "      border-right-color: var(--fill-color);\n",
              "    }\n",
              "    40% {\n",
              "      border-color: transparent;\n",
              "      border-right-color: var(--fill-color);\n",
              "      border-top-color: var(--fill-color);\n",
              "    }\n",
              "    60% {\n",
              "      border-color: transparent;\n",
              "      border-right-color: var(--fill-color);\n",
              "    }\n",
              "    80% {\n",
              "      border-color: transparent;\n",
              "      border-right-color: var(--fill-color);\n",
              "      border-bottom-color: var(--fill-color);\n",
              "    }\n",
              "    90% {\n",
              "      border-color: transparent;\n",
              "      border-bottom-color: var(--fill-color);\n",
              "    }\n",
              "  }\n",
              "</style>\n",
              "\n",
              "      <script>\n",
              "        async function quickchart(key) {\n",
              "          const quickchartButtonEl =\n",
              "            document.querySelector('#' + key + ' button');\n",
              "          quickchartButtonEl.disabled = true;  // To prevent multiple clicks.\n",
              "          quickchartButtonEl.classList.add('colab-df-spinner');\n",
              "          try {\n",
              "            const charts = await google.colab.kernel.invokeFunction(\n",
              "                'suggestCharts', [key], {});\n",
              "          } catch (error) {\n",
              "            console.error('Error during call to suggestCharts:', error);\n",
              "          }\n",
              "          quickchartButtonEl.classList.remove('colab-df-spinner');\n",
              "          quickchartButtonEl.classList.add('colab-df-quickchart-complete');\n",
              "        }\n",
              "        (() => {\n",
              "          let quickchartButtonEl =\n",
              "            document.querySelector('#df-ebb10a72-1464-42ca-8a0f-d4423d5c3ff3 button');\n",
              "          quickchartButtonEl.style.display =\n",
              "            google.colab.kernel.accessAllowed ? 'block' : 'none';\n",
              "        })();\n",
              "      </script>\n",
              "    </div>\n",
              "\n",
              "  <div id=\"id_003ac412-27c2-4078-9b28-97302d010a94\">\n",
              "    <style>\n",
              "      .colab-df-generate {\n",
              "        background-color: #E8F0FE;\n",
              "        border: none;\n",
              "        border-radius: 50%;\n",
              "        cursor: pointer;\n",
              "        display: none;\n",
              "        fill: #1967D2;\n",
              "        height: 32px;\n",
              "        padding: 0 0 0 0;\n",
              "        width: 32px;\n",
              "      }\n",
              "\n",
              "      .colab-df-generate:hover {\n",
              "        background-color: #E2EBFA;\n",
              "        box-shadow: 0px 1px 2px rgba(60, 64, 67, 0.3), 0px 1px 3px 1px rgba(60, 64, 67, 0.15);\n",
              "        fill: #174EA6;\n",
              "      }\n",
              "\n",
              "      [theme=dark] .colab-df-generate {\n",
              "        background-color: #3B4455;\n",
              "        fill: #D2E3FC;\n",
              "      }\n",
              "\n",
              "      [theme=dark] .colab-df-generate:hover {\n",
              "        background-color: #434B5C;\n",
              "        box-shadow: 0px 1px 3px 1px rgba(0, 0, 0, 0.15);\n",
              "        filter: drop-shadow(0px 1px 2px rgba(0, 0, 0, 0.3));\n",
              "        fill: #FFFFFF;\n",
              "      }\n",
              "    </style>\n",
              "    <button class=\"colab-df-generate\" onclick=\"generateWithVariable('correlation')\"\n",
              "            title=\"Generate code using this dataframe.\"\n",
              "            style=\"display:none;\">\n",
              "\n",
              "  <svg xmlns=\"http://www.w3.org/2000/svg\" height=\"24px\"viewBox=\"0 0 24 24\"\n",
              "       width=\"24px\">\n",
              "    <path d=\"M7,19H8.4L18.45,9,17,7.55,7,17.6ZM5,21V16.75L18.45,3.32a2,2,0,0,1,2.83,0l1.4,1.43a1.91,1.91,0,0,1,.58,1.4,1.91,1.91,0,0,1-.58,1.4L9.25,21ZM18.45,9,17,7.55Zm-12,3A5.31,5.31,0,0,0,4.9,8.1,5.31,5.31,0,0,0,1,6.5,5.31,5.31,0,0,0,4.9,4.9,5.31,5.31,0,0,0,6.5,1,5.31,5.31,0,0,0,8.1,4.9,5.31,5.31,0,0,0,12,6.5,5.46,5.46,0,0,0,6.5,12Z\"/>\n",
              "  </svg>\n",
              "    </button>\n",
              "    <script>\n",
              "      (() => {\n",
              "      const buttonEl =\n",
              "        document.querySelector('#id_003ac412-27c2-4078-9b28-97302d010a94 button.colab-df-generate');\n",
              "      buttonEl.style.display =\n",
              "        google.colab.kernel.accessAllowed ? 'block' : 'none';\n",
              "\n",
              "      buttonEl.onclick = () => {\n",
              "        google.colab.notebook.generateWithVariable('correlation');\n",
              "      }\n",
              "      })();\n",
              "    </script>\n",
              "  </div>\n",
              "\n",
              "    </div>\n",
              "  </div>\n"
            ],
            "application/vnd.google.colaboratory.intrinsic+json": {
              "type": "dataframe",
              "variable_name": "correlation",
              "summary": "{\n  \"name\": \"correlation\",\n  \"rows\": 4,\n  \"fields\": [\n    {\n      \"column\": \"Miles Traveled\",\n      \"properties\": {\n        \"dtype\": \"number\",\n        \"std\": 0.3042222335678165,\n        \"min\": 0.35579623354708545,\n        \"max\": 1.0,\n        \"num_unique_values\": 4,\n        \"samples\": [\n          0.9558982066200346,\n          0.9281785008874762,\n          1.0\n        ],\n        \"semantic_type\": \"\",\n        \"description\": \"\"\n      }\n    },\n    {\n      \"column\": \"Number of Deliveries\",\n      \"properties\": {\n        \"dtype\": \"number\",\n        \"std\": 0.23212525432356396,\n        \"min\": 0.49824216474016353,\n        \"max\": 1.0,\n        \"num_unique_values\": 4,\n        \"samples\": [\n          1.0,\n          0.916443396447027,\n          0.9558982066200346\n        ],\n        \"semantic_type\": \"\",\n        \"description\": \"\"\n      }\n    },\n    {\n      \"column\": \"Gas Price\",\n      \"properties\": {\n        \"dtype\": \"number\",\n        \"std\": 0.3272679336543328,\n        \"min\": 0.2672115310193848,\n        \"max\": 1.0,\n        \"num_unique_values\": 4,\n        \"samples\": [\n          0.49824216474016353,\n          0.2672115310193848,\n          0.35579623354708545\n        ],\n        \"semantic_type\": \"\",\n        \"description\": \"\"\n      }\n    },\n    {\n      \"column\": \"Travel Time\",\n      \"properties\": {\n        \"dtype\": \"number\",\n        \"std\": 0.3424952599456091,\n        \"min\": 0.2672115310193848,\n        \"max\": 1.0,\n        \"num_unique_values\": 4,\n        \"samples\": [\n          0.916443396447027,\n          1.0,\n          0.9281785008874762\n        ],\n        \"semantic_type\": \"\",\n        \"description\": \"\"\n      }\n    }\n  ]\n}"
            }
          },
          "metadata": {},
          "execution_count": 21
        }
      ],
      "source": [
        "correlation = df.corr()\n",
        "correlation"
      ]
    },
    {
      "cell_type": "markdown",
      "source": [
        "15. Create a correlation matrix"
      ],
      "metadata": {
        "id": "OCcEP5K6dRib"
      }
    },
    {
      "cell_type": "code",
      "execution_count": 22,
      "metadata": {
        "id": "L-DI2aktPQSS",
        "colab": {
          "base_uri": "https://localhost:8080/",
          "height": 568
        },
        "outputId": "11bb2eb6-1bf1-4cd7-9555-e825055ca933"
      },
      "outputs": [
        {
          "output_type": "display_data",
          "data": {
            "text/plain": [
              "<Figure size 640x480 with 2 Axes>"
            ],
            "image/png": "[encoded data removed]"
          },
          "metadata": {}
        }
      ],
      "source": [
        "sns.heatmap(correlation, annot=True, vmin=-1, vmax=1, center=0)\n",
        "plt.show()"
      ]
    },
    {
      "cell_type": "markdown",
      "metadata": {
        "id": "yYiArptLfGIV"
      },
      "source": [
        "## Building Different Regression Models"
      ]
    },
    {
      "cell_type": "markdown",
      "metadata": {
        "id": "NJ4wex8RjsK2"
      },
      "source": [
        "### Model 1: Miles Traveled and Travel Time"
      ]
    },
    {
      "cell_type": "markdown",
      "source": [
        "16. Set independent and dependent variables"
      ],
      "metadata": {
        "id": "nl_sTh3Hd74j"
      }
    },
    {
      "cell_type": "code",
      "execution_count": 24,
      "metadata": {
        "id": "hQWfifH-fpKT"
      },
      "outputs": [],
      "source": [
        "X = df[['Miles Traveled']]\n",
        "X = sm.add_constant(X)\n",
        "y = df['Travel Time']"
      ]
    },
    {
      "cell_type": "markdown",
      "source": [
        "17. Build and train the model"
      ],
      "metadata": {
        "id": "xErHUNUCeEy5"
      }
    },
    {
      "cell_type": "code",
      "execution_count": 25,
      "metadata": {
        "id": "8Z5ntKuxlYRY",
        "colab": {
          "base_uri": "https://localhost:8080/"
        },
        "outputId": "eb8c102b-988b-48d5-c069-eecc2cd573ef"
      },
      "outputs": [
        {
          "output_type": "stream",
          "name": "stdout",
          "text": [
            "Intercept: 3.1855602489995554\n",
            "Coefficients: [0.         0.04025678]\n"
          ]
        }
      ],
      "source": [
        "mlr_model = LinearRegression()\n",
        "\n",
        "mlr_model.fit(X, y)\n",
        "\n",
        "y_pred = mlr_model.predict(X)\n",
        "print('Intercept:', mlr_model.intercept_)\n",
        "print('Coefficients:', mlr_model.coef_)"
      ]
    },
    {
      "cell_type": "markdown",
      "source": [
        "18. Display the statistical summary"
      ],
      "metadata": {
        "id": "WHoGr0cIeLtw"
      }
    },
    {
      "cell_type": "code",
      "execution_count": 26,
      "metadata": {
        "id": "EfMmKYwghZCl",
        "colab": {
          "base_uri": "https://localhost:8080/",
          "height": 434
        },
        "outputId": "65382f3a-822e-49dd-cffc-3d47b1af5630"
      },
      "outputs": [
        {
          "output_type": "execute_result",
          "data": {
            "text/plain": [
              "<class 'statsmodels.iolib.summary.Summary'>\n",
              "\"\"\"\n",
              "                            OLS Regression Results                            \n",
              "==============================================================================\n",
              "Dep. Variable:            Travel Time   R-squared:                       0.862\n",
              "Model:                            OLS   Adj. R-squared:                  0.844\n",
              "Method:                 Least Squares   F-statistic:                     49.77\n",
              "Date:                Mon, 18 Aug 2025   Prob (F-statistic):           0.000107\n",
              "Time:                        05:49:23   Log-Likelihood:                -2.3532\n",
              "No. Observations:                  10   AIC:                             8.706\n",
              "Df Residuals:                       8   BIC:                             9.312\n",
              "Df Model:                           1                                         \n",
              "Covariance Type:            nonrobust                                         \n",
              "==================================================================================\n",
              "                     coef    std err          t      P>|t|      [0.025      0.975]\n",
              "----------------------------------------------------------------------------------\n",
              "const              3.1856      0.467      6.822      0.000       2.109       4.262\n",
              "Miles Traveled     0.0403      0.006      7.055      0.000       0.027       0.053\n",
              "==============================================================================\n",
              "Omnibus:                        0.542   Durbin-Watson:                   2.608\n",
              "Prob(Omnibus):                  0.763   Jarque-Bera (JB):                0.554\n",
              "Skew:                           0.370   Prob(JB):                        0.758\n",
              "Kurtosis:                       2.115   Cond. No.                         353.\n",
              "==============================================================================\n",
              "\n",
              "Notes:\n",
              "[1] Standard Errors assume that the covariance matrix of the errors is correctly specified.\n",
              "\"\"\""
            ],
            "text/html": [
              "<table class=\"simpletable\">\n",
              "<caption>OLS Regression Results</caption>\n",
              "<tr>\n",
              "  <th>Dep. Variable:</th>       <td>Travel Time</td>   <th>  R-squared:         </th> <td>   0.862</td>\n",
              "</tr>\n",
              "<tr>\n",
              "  <th>Model:</th>                   <td>OLS</td>       <th>  Adj. R-squared:    </th> <td>   0.844</td>\n",
              "</tr>\n",
              "<tr>\n",
              "  <th>Method:</th>             <td>Least Squares</td>  <th>  F-statistic:       </th> <td>   49.77</td>\n",
              "</tr>\n",
              "<tr>\n",
              "  <th>Date:</th>             <td>Mon, 18 Aug 2025</td> <th>  Prob (F-statistic):</th> <td>0.000107</td>\n",
              "</tr>\n",
              "<tr>\n",
              "  <th>Time:</th>                 <td>05:49:23</td>     <th>  Log-Likelihood:    </th> <td> -2.3532</td>\n",
              "</tr>\n",
              "<tr>\n",
              "  <th>No. Observations:</th>      <td>    10</td>      <th>  AIC:               </th> <td>   8.706</td>\n",
              "</tr>\n",
              "<tr>\n",
              "  <th>Df Residuals:</th>          <td>     8</td>      <th>  BIC:               </th> <td>   9.312</td>\n",
              "</tr>\n",
              "<tr>\n",
              "  <th>Df Model:</th>              <td>     1</td>      <th>                     </th>     <td> </td>   \n",
              "</tr>\n",
              "<tr>\n",
              "  <th>Covariance Type:</th>      <td>nonrobust</td>    <th>                     </th>     <td> </td>   \n",
              "</tr>\n",
              "</table>\n",
              "<table class=\"simpletable\">\n",
              "<tr>\n",
              "         <td></td>           <th>coef</th>     <th>std err</th>      <th>t</th>      <th>P>|t|</th>  <th>[0.025</th>    <th>0.975]</th>  \n",
              "</tr>\n",
              "<tr>\n",
              "  <th>const</th>          <td>    3.1856</td> <td>    0.467</td> <td>    6.822</td> <td> 0.000</td> <td>    2.109</td> <td>    4.262</td>\n",
              "</tr>\n",
              "<tr>\n",
              "  <th>Miles Traveled</th> <td>    0.0403</td> <td>    0.006</td> <td>    7.055</td> <td> 0.000</td> <td>    0.027</td> <td>    0.053</td>\n",
              "</tr>\n",
              "</table>\n",
              "<table class=\"simpletable\">\n",
              "<tr>\n",
              "  <th>Omnibus:</th>       <td> 0.542</td> <th>  Durbin-Watson:     </th> <td>   2.608</td>\n",
              "</tr>\n",
              "<tr>\n",
              "  <th>Prob(Omnibus):</th> <td> 0.763</td> <th>  Jarque-Bera (JB):  </th> <td>   0.554</td>\n",
              "</tr>\n",
              "<tr>\n",
              "  <th>Skew:</th>          <td> 0.370</td> <th>  Prob(JB):          </th> <td>   0.758</td>\n",
              "</tr>\n",
              "<tr>\n",
              "  <th>Kurtosis:</th>      <td> 2.115</td> <th>  Cond. No.          </th> <td>    353.</td>\n",
              "</tr>\n",
              "</table><br/><br/>Notes:<br/>[1] Standard Errors assume that the covariance matrix of the errors is correctly specified."
            ],
            "text/latex": "\\begin{center}\n\\begin{tabular}{lclc}\n\\toprule\n\\textbf{Dep. Variable:}    &   Travel Time    & \\textbf{  R-squared:         } &     0.862   \\\\\n\\textbf{Model:}            &       OLS        & \\textbf{  Adj. R-squared:    } &     0.844   \\\\\n\\textbf{Method:}           &  Least Squares   & \\textbf{  F-statistic:       } &     49.77   \\\\\n\\textbf{Date:}             & Mon, 18 Aug 2025 & \\textbf{  Prob (F-statistic):} &  0.000107   \\\\\n\\textbf{Time:}             &     05:49:23     & \\textbf{  Log-Likelihood:    } &   -2.3532   \\\\\n\\textbf{No. Observations:} &          10      & \\textbf{  AIC:               } &     8.706   \\\\\n\\textbf{Df Residuals:}     &           8      & \\textbf{  BIC:               } &     9.312   \\\\\n\\textbf{Df Model:}         &           1      & \\textbf{                     } &             \\\\\n\\textbf{Covariance Type:}  &    nonrobust     & \\textbf{                     } &             \\\\\n\\bottomrule\n\\end{tabular}\n\\begin{tabular}{lcccccc}\n                        & \\textbf{coef} & \\textbf{std err} & \\textbf{t} & \\textbf{P$> |$t$|$} & \\textbf{[0.025} & \\textbf{0.975]}  \\\\\n\\midrule\n\\textbf{const}          &       3.1856  &        0.467     &     6.822  &         0.000        &        2.109    &        4.262     \\\\\n\\textbf{Miles Traveled} &       0.0403  &        0.006     &     7.055  &         0.000        &        0.027    &        0.053     \\\\\n\\bottomrule\n\\end{tabular}\n\\begin{tabular}{lclc}\n\\textbf{Omnibus:}       &  0.542 & \\textbf{  Durbin-Watson:     } &    2.608  \\\\\n\\textbf{Prob(Omnibus):} &  0.763 & \\textbf{  Jarque-Bera (JB):  } &    0.554  \\\\\n\\textbf{Skew:}          &  0.370 & \\textbf{  Prob(JB):          } &    0.758  \\\\\n\\textbf{Kurtosis:}      &  2.115 & \\textbf{  Cond. No.          } &     353.  \\\\\n\\bottomrule\n\\end{tabular}\n%\\caption{OLS Regression Results}\n\\end{center}\n\nNotes: \\newline\n [1] Standard Errors assume that the covariance matrix of the errors is correctly specified."
          },
          "metadata": {},
          "execution_count": 26
        }
      ],
      "source": [
        "olsmod = sm.OLS(y, X).fit()\n",
        "olsmod.summary()"
      ]
    },
    {
      "cell_type": "markdown",
      "source": [
        "19. Display the r-squared"
      ],
      "metadata": {
        "id": "AyG2_4tWt1ch"
      }
    },
    {
      "cell_type": "code",
      "execution_count": 28,
      "metadata": {
        "id": "sZ8sTmV8hv3P",
        "colab": {
          "base_uri": "https://localhost:8080/"
        },
        "outputId": "18437818-42fa-4c42-a018-e67fd3238917"
      },
      "outputs": [
        {
          "output_type": "stream",
          "name": "stdout",
          "text": [
            "0.8615153295097224\n"
          ]
        }
      ],
      "source": [
        "print(olsmod.rsquared)"
      ]
    },
    {
      "cell_type": "markdown",
      "metadata": {
        "id": "7aeaD6uAvOaB"
      },
      "source": [
        "### Model 2: Number of Deliveries and Travel Time"
      ]
    },
    {
      "cell_type": "markdown",
      "source": [
        "16. Set independent and dependent variables"
      ],
      "metadata": {
        "id": "DjTAvy9IvOaB"
      }
    },
    {
      "cell_type": "code",
      "execution_count": 33,
      "metadata": {
        "id": "m3hVyGB_vOaB"
      },
      "outputs": [],
      "source": [
        "X = df[['Number of Deliveries']]\n",
        "X = sm.add_constant(X)\n",
        "y = df['Travel Time']"
      ]
    },
    {
      "cell_type": "markdown",
      "source": [
        "17. Build and train the model"
      ],
      "metadata": {
        "id": "F-j9pAB8vOaB"
      }
    },
    {
      "cell_type": "code",
      "execution_count": 34,
      "metadata": {
        "colab": {
          "base_uri": "https://localhost:8080/"
        },
        "outputId": "a6a32cd3-30ea-4849-d69a-a301a22d8a3b",
        "id": "GbqpsddEvOaB"
      },
      "outputs": [
        {
          "output_type": "stream",
          "name": "stdout",
          "text": [
            "Intercept: 4.84541484716157\n",
            "Coefficients: [0.         0.49825328]\n"
          ]
        }
      ],
      "source": [
        "mlr_model = LinearRegression()\n",
        "\n",
        "mlr_model.fit(X, y)\n",
        "\n",
        "y_pred = mlr_model.predict(X)\n",
        "print('Intercept:', mlr_model.intercept_)\n",
        "print('Coefficients:', mlr_model.coef_)"
      ]
    },
    {
      "cell_type": "markdown",
      "source": [
        "18. Display the statistical summary"
      ],
      "metadata": {
        "id": "ObabnmYzvOaC"
      }
    },
    {
      "cell_type": "code",
      "execution_count": 35,
      "metadata": {
        "colab": {
          "base_uri": "https://localhost:8080/",
          "height": 434
        },
        "outputId": "3c2b18aa-b019-464d-cb21-a0049934cfbc",
        "id": "ngtf-dkcvOaC"
      },
      "outputs": [
        {
          "output_type": "execute_result",
          "data": {
            "text/plain": [
              "<class 'statsmodels.iolib.summary.Summary'>\n",
              "\"\"\"\n",
              "                            OLS Regression Results                            \n",
              "==============================================================================\n",
              "Dep. Variable:            Travel Time   R-squared:                       0.840\n",
              "Model:                            OLS   Adj. R-squared:                  0.820\n",
              "Method:                 Least Squares   F-statistic:                     41.96\n",
              "Date:                Mon, 18 Aug 2025   Prob (F-statistic):           0.000193\n",
              "Time:                        05:54:03   Log-Likelihood:                -3.0794\n",
              "No. Observations:                  10   AIC:                             10.16\n",
              "Df Residuals:                       8   BIC:                             10.76\n",
              "Df Model:                           1                                         \n",
              "Covariance Type:            nonrobust                                         \n",
              "========================================================================================\n",
              "                           coef    std err          t      P>|t|      [0.025      0.975]\n",
              "----------------------------------------------------------------------------------------\n",
              "const                    4.8454      0.265     18.261      0.000       4.234       5.457\n",
              "Number of Deliveries     0.4983      0.077      6.478      0.000       0.321       0.676\n",
              "==============================================================================\n",
              "Omnibus:                        0.391   Durbin-Watson:                   1.970\n",
              "Prob(Omnibus):                  0.822   Jarque-Bera (JB):                0.065\n",
              "Skew:                           0.147   Prob(JB):                        0.968\n",
              "Kurtosis:                       2.736   Cond. No.                         8.41\n",
              "==============================================================================\n",
              "\n",
              "Notes:\n",
              "[1] Standard Errors assume that the covariance matrix of the errors is correctly specified.\n",
              "\"\"\""
            ],
            "text/html": [
              "<table class=\"simpletable\">\n",
              "<caption>OLS Regression Results</caption>\n",
              "<tr>\n",
              "  <th>Dep. Variable:</th>       <td>Travel Time</td>   <th>  R-squared:         </th> <td>   0.840</td>\n",
              "</tr>\n",
              "<tr>\n",
              "  <th>Model:</th>                   <td>OLS</td>       <th>  Adj. R-squared:    </th> <td>   0.820</td>\n",
              "</tr>\n",
              "<tr>\n",
              "  <th>Method:</th>             <td>Least Squares</td>  <th>  F-statistic:       </th> <td>   41.96</td>\n",
              "</tr>\n",
              "<tr>\n",
              "  <th>Date:</th>             <td>Mon, 18 Aug 2025</td> <th>  Prob (F-statistic):</th> <td>0.000193</td>\n",
              "</tr>\n",
              "<tr>\n",
              "  <th>Time:</th>                 <td>05:54:03</td>     <th>  Log-Likelihood:    </th> <td> -3.0794</td>\n",
              "</tr>\n",
              "<tr>\n",
              "  <th>No. Observations:</th>      <td>    10</td>      <th>  AIC:               </th> <td>   10.16</td>\n",
              "</tr>\n",
              "<tr>\n",
              "  <th>Df Residuals:</th>          <td>     8</td>      <th>  BIC:               </th> <td>   10.76</td>\n",
              "</tr>\n",
              "<tr>\n",
              "  <th>Df Model:</th>              <td>     1</td>      <th>                     </th>     <td> </td>   \n",
              "</tr>\n",
              "<tr>\n",
              "  <th>Covariance Type:</th>      <td>nonrobust</td>    <th>                     </th>     <td> </td>   \n",
              "</tr>\n",
              "</table>\n",
              "<table class=\"simpletable\">\n",
              "<tr>\n",
              "            <td></td>              <th>coef</th>     <th>std err</th>      <th>t</th>      <th>P>|t|</th>  <th>[0.025</th>    <th>0.975]</th>  \n",
              "</tr>\n",
              "<tr>\n",
              "  <th>const</th>                <td>    4.8454</td> <td>    0.265</td> <td>   18.261</td> <td> 0.000</td> <td>    4.234</td> <td>    5.457</td>\n",
              "</tr>\n",
              "<tr>\n",
              "  <th>Number of Deliveries</th> <td>    0.4983</td> <td>    0.077</td> <td>    6.478</td> <td> 0.000</td> <td>    0.321</td> <td>    0.676</td>\n",
              "</tr>\n",
              "</table>\n",
              "<table class=\"simpletable\">\n",
              "<tr>\n",
              "  <th>Omnibus:</th>       <td> 0.391</td> <th>  Durbin-Watson:     </th> <td>   1.970</td>\n",
              "</tr>\n",
              "<tr>\n",
              "  <th>Prob(Omnibus):</th> <td> 0.822</td> <th>  Jarque-Bera (JB):  </th> <td>   0.065</td>\n",
              "</tr>\n",
              "<tr>\n",
              "  <th>Skew:</th>          <td> 0.147</td> <th>  Prob(JB):          </th> <td>   0.968</td>\n",
              "</tr>\n",
              "<tr>\n",
              "  <th>Kurtosis:</th>      <td> 2.736</td> <th>  Cond. No.          </th> <td>    8.41</td>\n",
              "</tr>\n",
              "</table><br/><br/>Notes:<br/>[1] Standard Errors assume that the covariance matrix of the errors is correctly specified."
            ],
            "text/latex": "\\begin{center}\n\\begin{tabular}{lclc}\n\\toprule\n\\textbf{Dep. Variable:}       &   Travel Time    & \\textbf{  R-squared:         } &     0.840   \\\\\n\\textbf{Model:}               &       OLS        & \\textbf{  Adj. R-squared:    } &     0.820   \\\\\n\\textbf{Method:}              &  Least Squares   & \\textbf{  F-statistic:       } &     41.96   \\\\\n\\textbf{Date:}                & Mon, 18 Aug 2025 & \\textbf{  Prob (F-statistic):} &  0.000193   \\\\\n\\textbf{Time:}                &     05:54:03     & \\textbf{  Log-Likelihood:    } &   -3.0794   \\\\\n\\textbf{No. Observations:}    &          10      & \\textbf{  AIC:               } &     10.16   \\\\\n\\textbf{Df Residuals:}        &           8      & \\textbf{  BIC:               } &     10.76   \\\\\n\\textbf{Df Model:}            &           1      & \\textbf{                     } &             \\\\\n\\textbf{Covariance Type:}     &    nonrobust     & \\textbf{                     } &             \\\\\n\\bottomrule\n\\end{tabular}\n\\begin{tabular}{lcccccc}\n                              & \\textbf{coef} & \\textbf{std err} & \\textbf{t} & \\textbf{P$> |$t$|$} & \\textbf{[0.025} & \\textbf{0.975]}  \\\\\n\\midrule\n\\textbf{const}                &       4.8454  &        0.265     &    18.261  &         0.000        &        4.234    &        5.457     \\\\\n\\textbf{Number of Deliveries} &       0.4983  &        0.077     &     6.478  &         0.000        &        0.321    &        0.676     \\\\\n\\bottomrule\n\\end{tabular}\n\\begin{tabular}{lclc}\n\\textbf{Omnibus:}       &  0.391 & \\textbf{  Durbin-Watson:     } &    1.970  \\\\\n\\textbf{Prob(Omnibus):} &  0.822 & \\textbf{  Jarque-Bera (JB):  } &    0.065  \\\\\n\\textbf{Skew:}          &  0.147 & \\textbf{  Prob(JB):          } &    0.968  \\\\\n\\textbf{Kurtosis:}      &  2.736 & \\textbf{  Cond. No.          } &     8.41  \\\\\n\\bottomrule\n\\end{tabular}\n%\\caption{OLS Regression Results}\n\\end{center}\n\nNotes: \\newline\n [1] Standard Errors assume that the covariance matrix of the errors is correctly specified."
          },
          "metadata": {},
          "execution_count": 35
        }
      ],
      "source": [
        "olsmod = sm.OLS(y, X).fit()\n",
        "olsmod.summary()"
      ]
    },
    {
      "cell_type": "markdown",
      "source": [
        "19. Display the r-squared"
      ],
      "metadata": {
        "id": "BfqUogfAvOaC"
      }
    },
    {
      "cell_type": "code",
      "execution_count": 36,
      "metadata": {
        "colab": {
          "base_uri": "https://localhost:8080/"
        },
        "outputId": "9ee0b0cb-06a3-4137-fa7a-6467e4f6bb12",
        "id": "veSRuc0FvOaC"
      },
      "outputs": [
        {
          "output_type": "stream",
          "name": "stdout",
          "text": [
            "0.8398684988913625\n"
          ]
        }
      ],
      "source": [
        "print(olsmod.rsquared)"
      ]
    },
    {
      "cell_type": "markdown",
      "metadata": {
        "id": "NjuZcSiYvnoB"
      },
      "source": [
        "### Model 3: Gas Price and Travel Time"
      ]
    },
    {
      "cell_type": "markdown",
      "source": [
        "16. Set independent and dependent variables"
      ],
      "metadata": {
        "id": "l1qiQAHjvnoC"
      }
    },
    {
      "cell_type": "code",
      "execution_count": 37,
      "metadata": {
        "id": "DIrrxiStvnoC"
      },
      "outputs": [],
      "source": [
        "X = df[['Gas Price']]\n",
        "X = sm.add_constant(X)\n",
        "y = df['Travel Time']"
      ]
    },
    {
      "cell_type": "markdown",
      "source": [
        "17. Build and train the model"
      ],
      "metadata": {
        "id": "u3qfBOWkvnoC"
      }
    },
    {
      "cell_type": "code",
      "execution_count": 38,
      "metadata": {
        "colab": {
          "base_uri": "https://localhost:8080/"
        },
        "outputId": "2a7f9f95-e422-420b-85ee-7392ba2c507c",
        "id": "F0qcRNFUvnoC"
      },
      "outputs": [
        {
          "output_type": "stream",
          "name": "stdout",
          "text": [
            "Intercept: 3.536488198199421\n",
            "Coefficients: [0.         0.81134825]\n"
          ]
        }
      ],
      "source": [
        "mlr_model = LinearRegression()\n",
        "\n",
        "mlr_model.fit(X, y)\n",
        "\n",
        "y_pred = mlr_model.predict(X)\n",
        "print('Intercept:', mlr_model.intercept_)\n",
        "print('Coefficients:', mlr_model.coef_)"
      ]
    },
    {
      "cell_type": "markdown",
      "source": [
        "18. Display the statistical summary"
      ],
      "metadata": {
        "id": "KrHlvEKNvnoD"
      }
    },
    {
      "cell_type": "code",
      "execution_count": 39,
      "metadata": {
        "colab": {
          "base_uri": "https://localhost:8080/",
          "height": 434
        },
        "outputId": "26f7ba63-8966-4e7c-bba6-7e4904758083",
        "id": "BR1KBgnGvnoD"
      },
      "outputs": [
        {
          "output_type": "execute_result",
          "data": {
            "text/plain": [
              "<class 'statsmodels.iolib.summary.Summary'>\n",
              "\"\"\"\n",
              "                            OLS Regression Results                            \n",
              "==============================================================================\n",
              "Dep. Variable:            Travel Time   R-squared:                       0.071\n",
              "Model:                            OLS   Adj. R-squared:                 -0.045\n",
              "Method:                 Least Squares   F-statistic:                    0.6151\n",
              "Date:                Mon, 18 Aug 2025   Prob (F-statistic):              0.455\n",
              "Time:                        05:55:29   Log-Likelihood:                -11.868\n",
              "No. Observations:                  10   AIC:                             27.74\n",
              "Df Residuals:                       8   BIC:                             28.34\n",
              "Df Model:                           1                                         \n",
              "Covariance Type:            nonrobust                                         \n",
              "==============================================================================\n",
              "                 coef    std err          t      P>|t|      [0.025      0.975]\n",
              "------------------------------------------------------------------------------\n",
              "const          3.5365      3.649      0.969      0.361      -4.878      11.951\n",
              "Gas Price      0.8113      1.034      0.784      0.455      -1.574       3.197\n",
              "==============================================================================\n",
              "Omnibus:                        1.232   Durbin-Watson:                   2.823\n",
              "Prob(Omnibus):                  0.540   Jarque-Bera (JB):                0.765\n",
              "Skew:                          -0.619   Prob(JB):                        0.682\n",
              "Kurtosis:                       2.451   Cond. No.                         49.6\n",
              "==============================================================================\n",
              "\n",
              "Notes:\n",
              "[1] Standard Errors assume that the covariance matrix of the errors is correctly specified.\n",
              "\"\"\""
            ],
            "text/html": [
              "<table class=\"simpletable\">\n",
              "<caption>OLS Regression Results</caption>\n",
              "<tr>\n",
              "  <th>Dep. Variable:</th>       <td>Travel Time</td>   <th>  R-squared:         </th> <td>   0.071</td>\n",
              "</tr>\n",
              "<tr>\n",
              "  <th>Model:</th>                   <td>OLS</td>       <th>  Adj. R-squared:    </th> <td>  -0.045</td>\n",
              "</tr>\n",
              "<tr>\n",
              "  <th>Method:</th>             <td>Least Squares</td>  <th>  F-statistic:       </th> <td>  0.6151</td>\n",
              "</tr>\n",
              "<tr>\n",
              "  <th>Date:</th>             <td>Mon, 18 Aug 2025</td> <th>  Prob (F-statistic):</th>  <td> 0.455</td> \n",
              "</tr>\n",
              "<tr>\n",
              "  <th>Time:</th>                 <td>05:55:29</td>     <th>  Log-Likelihood:    </th> <td> -11.868</td>\n",
              "</tr>\n",
              "<tr>\n",
              "  <th>No. Observations:</th>      <td>    10</td>      <th>  AIC:               </th> <td>   27.74</td>\n",
              "</tr>\n",
              "<tr>\n",
              "  <th>Df Residuals:</th>          <td>     8</td>      <th>  BIC:               </th> <td>   28.34</td>\n",
              "</tr>\n",
              "<tr>\n",
              "  <th>Df Model:</th>              <td>     1</td>      <th>                     </th>     <td> </td>   \n",
              "</tr>\n",
              "<tr>\n",
              "  <th>Covariance Type:</th>      <td>nonrobust</td>    <th>                     </th>     <td> </td>   \n",
              "</tr>\n",
              "</table>\n",
              "<table class=\"simpletable\">\n",
              "<tr>\n",
              "      <td></td>         <th>coef</th>     <th>std err</th>      <th>t</th>      <th>P>|t|</th>  <th>[0.025</th>    <th>0.975]</th>  \n",
              "</tr>\n",
              "<tr>\n",
              "  <th>const</th>     <td>    3.5365</td> <td>    3.649</td> <td>    0.969</td> <td> 0.361</td> <td>   -4.878</td> <td>   11.951</td>\n",
              "</tr>\n",
              "<tr>\n",
              "  <th>Gas Price</th> <td>    0.8113</td> <td>    1.034</td> <td>    0.784</td> <td> 0.455</td> <td>   -1.574</td> <td>    3.197</td>\n",
              "</tr>\n",
              "</table>\n",
              "<table class=\"simpletable\">\n",
              "<tr>\n",
              "  <th>Omnibus:</th>       <td> 1.232</td> <th>  Durbin-Watson:     </th> <td>   2.823</td>\n",
              "</tr>\n",
              "<tr>\n",
              "  <th>Prob(Omnibus):</th> <td> 0.540</td> <th>  Jarque-Bera (JB):  </th> <td>   0.765</td>\n",
              "</tr>\n",
              "<tr>\n",
              "  <th>Skew:</th>          <td>-0.619</td> <th>  Prob(JB):          </th> <td>   0.682</td>\n",
              "</tr>\n",
              "<tr>\n",
              "  <th>Kurtosis:</th>      <td> 2.451</td> <th>  Cond. No.          </th> <td>    49.6</td>\n",
              "</tr>\n",
              "</table><br/><br/>Notes:<br/>[1] Standard Errors assume that the covariance matrix of the errors is correctly specified."
            ],
            "text/latex": "\\begin{center}\n\\begin{tabular}{lclc}\n\\toprule\n\\textbf{Dep. Variable:}    &   Travel Time    & \\textbf{  R-squared:         } &     0.071   \\\\\n\\textbf{Model:}            &       OLS        & \\textbf{  Adj. R-squared:    } &    -0.045   \\\\\n\\textbf{Method:}           &  Least Squares   & \\textbf{  F-statistic:       } &    0.6151   \\\\\n\\textbf{Date:}             & Mon, 18 Aug 2025 & \\textbf{  Prob (F-statistic):} &    0.455    \\\\\n\\textbf{Time:}             &     05:55:29     & \\textbf{  Log-Likelihood:    } &   -11.868   \\\\\n\\textbf{No. Observations:} &          10      & \\textbf{  AIC:               } &     27.74   \\\\\n\\textbf{Df Residuals:}     &           8      & \\textbf{  BIC:               } &     28.34   \\\\\n\\textbf{Df Model:}         &           1      & \\textbf{                     } &             \\\\\n\\textbf{Covariance Type:}  &    nonrobust     & \\textbf{                     } &             \\\\\n\\bottomrule\n\\end{tabular}\n\\begin{tabular}{lcccccc}\n                   & \\textbf{coef} & \\textbf{std err} & \\textbf{t} & \\textbf{P$> |$t$|$} & \\textbf{[0.025} & \\textbf{0.975]}  \\\\\n\\midrule\n\\textbf{const}     &       3.5365  &        3.649     &     0.969  &         0.361        &       -4.878    &       11.951     \\\\\n\\textbf{Gas Price} &       0.8113  &        1.034     &     0.784  &         0.455        &       -1.574    &        3.197     \\\\\n\\bottomrule\n\\end{tabular}\n\\begin{tabular}{lclc}\n\\textbf{Omnibus:}       &  1.232 & \\textbf{  Durbin-Watson:     } &    2.823  \\\\\n\\textbf{Prob(Omnibus):} &  0.540 & \\textbf{  Jarque-Bera (JB):  } &    0.765  \\\\\n\\textbf{Skew:}          & -0.619 & \\textbf{  Prob(JB):          } &    0.682  \\\\\n\\textbf{Kurtosis:}      &  2.451 & \\textbf{  Cond. No.          } &     49.6  \\\\\n\\bottomrule\n\\end{tabular}\n%\\caption{OLS Regression Results}\n\\end{center}\n\nNotes: \\newline\n [1] Standard Errors assume that the covariance matrix of the errors is correctly specified."
          },
          "metadata": {},
          "execution_count": 39
        }
      ],
      "source": [
        "olsmod = sm.OLS(y, X).fit()\n",
        "olsmod.summary()"
      ]
    },
    {
      "cell_type": "markdown",
      "source": [
        "19. Display the r-squared"
      ],
      "metadata": {
        "id": "0DZ_jCISvnoD"
      }
    },
    {
      "cell_type": "code",
      "execution_count": 40,
      "metadata": {
        "colab": {
          "base_uri": "https://localhost:8080/"
        },
        "outputId": "dc3e286c-45a8-4857-bd63-f6485d2911d6",
        "id": "quwTe6FGvnoD"
      },
      "outputs": [
        {
          "output_type": "stream",
          "name": "stdout",
          "text": [
            "0.07140200230972338\n"
          ]
        }
      ],
      "source": [
        "print(olsmod.rsquared)"
      ]
    },
    {
      "cell_type": "markdown",
      "metadata": {
        "id": "WHStQSrWv5Ro"
      },
      "source": [
        "### Model 4: Miles Traveled, Number of Deliveries and Travel Time"
      ]
    },
    {
      "cell_type": "markdown",
      "source": [
        "16. Set independent and dependent variables"
      ],
      "metadata": {
        "id": "bKRRYx-wv5Rp"
      }
    },
    {
      "cell_type": "code",
      "execution_count": 71,
      "metadata": {
        "id": "iw538-xkv5Rp"
      },
      "outputs": [],
      "source": [
        "X = df[['Miles Traveled', 'Number of Deliveries']]\n",
        "X = sm.add_constant(X)\n",
        "y = df['Travel Time']"
      ]
    },
    {
      "cell_type": "markdown",
      "source": [
        "17. Build and train the model"
      ],
      "metadata": {
        "id": "DTOSLLKqv5Rp"
      }
    },
    {
      "cell_type": "code",
      "execution_count": 72,
      "metadata": {
        "colab": {
          "base_uri": "https://localhost:8080/"
        },
        "outputId": "e7546662-1c66-4e8d-f6b3-afcf0a2181c8",
        "id": "hYFKgN_Nv5Rp"
      },
      "outputs": [
        {
          "output_type": "stream",
          "name": "stdout",
          "text": [
            "Intercept: 3.732158131682609\n",
            "Coefficients: [0.         0.02622257 0.18404052]\n"
          ]
        }
      ],
      "source": [
        "mlr_model = LinearRegression()\n",
        "\n",
        "mlr_model.fit(X, y)\n",
        "\n",
        "y_pred = mlr_model.predict(X)\n",
        "print('Intercept:', mlr_model.intercept_)\n",
        "print('Coefficients:', mlr_model.coef_)"
      ]
    },
    {
      "cell_type": "markdown",
      "source": [
        "18. Display the statistical summary"
      ],
      "metadata": {
        "id": "8vZOQjl8v5Rq"
      }
    },
    {
      "cell_type": "code",
      "execution_count": 73,
      "metadata": {
        "colab": {
          "base_uri": "https://localhost:8080/",
          "height": 454
        },
        "outputId": "2e532e7a-c778-4e3e-bfda-22bd75c3b519",
        "id": "athNzQ0_v5Rq"
      },
      "outputs": [
        {
          "output_type": "execute_result",
          "data": {
            "text/plain": [
              "<class 'statsmodels.iolib.summary.Summary'>\n",
              "\"\"\"\n",
              "                            OLS Regression Results                            \n",
              "==============================================================================\n",
              "Dep. Variable:            Travel Time   R-squared:                       0.871\n",
              "Model:                            OLS   Adj. R-squared:                  0.835\n",
              "Method:                 Least Squares   F-statistic:                     23.72\n",
              "Date:                Mon, 18 Aug 2025   Prob (F-statistic):           0.000763\n",
              "Time:                        06:07:23   Log-Likelihood:                -1.9830\n",
              "No. Observations:                  10   AIC:                             9.966\n",
              "Df Residuals:                       7   BIC:                             10.87\n",
              "Df Model:                           2                                         \n",
              "Covariance Type:            nonrobust                                         \n",
              "========================================================================================\n",
              "                           coef    std err          t      P>|t|      [0.025      0.975]\n",
              "----------------------------------------------------------------------------------------\n",
              "const                    3.7322      0.887      4.208      0.004       1.635       5.830\n",
              "Miles Traveled           0.0262      0.020      1.310      0.232      -0.021       0.074\n",
              "Number of Deliveries     0.1840      0.251      0.733      0.487      -0.409       0.777\n",
              "==============================================================================\n",
              "Omnibus:                        1.340   Durbin-Watson:                   2.402\n",
              "Prob(Omnibus):                  0.512   Jarque-Bera (JB):                0.867\n",
              "Skew:                           0.654   Prob(JB):                        0.648\n",
              "Kurtosis:                       2.393   Cond. No.                         670.\n",
              "==============================================================================\n",
              "\n",
              "Notes:\n",
              "[1] Standard Errors assume that the covariance matrix of the errors is correctly specified.\n",
              "\"\"\""
            ],
            "text/html": [
              "<table class=\"simpletable\">\n",
              "<caption>OLS Regression Results</caption>\n",
              "<tr>\n",
              "  <th>Dep. Variable:</th>       <td>Travel Time</td>   <th>  R-squared:         </th> <td>   0.871</td>\n",
              "</tr>\n",
              "<tr>\n",
              "  <th>Model:</th>                   <td>OLS</td>       <th>  Adj. R-squared:    </th> <td>   0.835</td>\n",
              "</tr>\n",
              "<tr>\n",
              "  <th>Method:</th>             <td>Least Squares</td>  <th>  F-statistic:       </th> <td>   23.72</td>\n",
              "</tr>\n",
              "<tr>\n",
              "  <th>Date:</th>             <td>Mon, 18 Aug 2025</td> <th>  Prob (F-statistic):</th> <td>0.000763</td>\n",
              "</tr>\n",
              "<tr>\n",
              "  <th>Time:</th>                 <td>06:07:23</td>     <th>  Log-Likelihood:    </th> <td> -1.9830</td>\n",
              "</tr>\n",
              "<tr>\n",
              "  <th>No. Observations:</th>      <td>    10</td>      <th>  AIC:               </th> <td>   9.966</td>\n",
              "</tr>\n",
              "<tr>\n",
              "  <th>Df Residuals:</th>          <td>     7</td>      <th>  BIC:               </th> <td>   10.87</td>\n",
              "</tr>\n",
              "<tr>\n",
              "  <th>Df Model:</th>              <td>     2</td>      <th>                     </th>     <td> </td>   \n",
              "</tr>\n",
              "<tr>\n",
              "  <th>Covariance Type:</th>      <td>nonrobust</td>    <th>                     </th>     <td> </td>   \n",
              "</tr>\n",
              "</table>\n",
              "<table class=\"simpletable\">\n",
              "<tr>\n",
              "            <td></td>              <th>coef</th>     <th>std err</th>      <th>t</th>      <th>P>|t|</th>  <th>[0.025</th>    <th>0.975]</th>  \n",
              "</tr>\n",
              "<tr>\n",
              "  <th>const</th>                <td>    3.7322</td> <td>    0.887</td> <td>    4.208</td> <td> 0.004</td> <td>    1.635</td> <td>    5.830</td>\n",
              "</tr>\n",
              "<tr>\n",
              "  <th>Miles Traveled</th>       <td>    0.0262</td> <td>    0.020</td> <td>    1.310</td> <td> 0.232</td> <td>   -0.021</td> <td>    0.074</td>\n",
              "</tr>\n",
              "<tr>\n",
              "  <th>Number of Deliveries</th> <td>    0.1840</td> <td>    0.251</td> <td>    0.733</td> <td> 0.487</td> <td>   -0.409</td> <td>    0.777</td>\n",
              "</tr>\n",
              "</table>\n",
              "<table class=\"simpletable\">\n",
              "<tr>\n",
              "  <th>Omnibus:</th>       <td> 1.340</td> <th>  Durbin-Watson:     </th> <td>   2.402</td>\n",
              "</tr>\n",
              "<tr>\n",
              "  <th>Prob(Omnibus):</th> <td> 0.512</td> <th>  Jarque-Bera (JB):  </th> <td>   0.867</td>\n",
              "</tr>\n",
              "<tr>\n",
              "  <th>Skew:</th>          <td> 0.654</td> <th>  Prob(JB):          </th> <td>   0.648</td>\n",
              "</tr>\n",
              "<tr>\n",
              "  <th>Kurtosis:</th>      <td> 2.393</td> <th>  Cond. No.          </th> <td>    670.</td>\n",
              "</tr>\n",
              "</table><br/><br/>Notes:<br/>[1] Standard Errors assume that the covariance matrix of the errors is correctly specified."
            ],
            "text/latex": "\\begin{center}\n\\begin{tabular}{lclc}\n\\toprule\n\\textbf{Dep. Variable:}       &   Travel Time    & \\textbf{  R-squared:         } &     0.871   \\\\\n\\textbf{Model:}               &       OLS        & \\textbf{  Adj. R-squared:    } &     0.835   \\\\\n\\textbf{Method:}              &  Least Squares   & \\textbf{  F-statistic:       } &     23.72   \\\\\n\\textbf{Date:}                & Mon, 18 Aug 2025 & \\textbf{  Prob (F-statistic):} &  0.000763   \\\\\n\\textbf{Time:}                &     06:07:23     & \\textbf{  Log-Likelihood:    } &   -1.9830   \\\\\n\\textbf{No. Observations:}    &          10      & \\textbf{  AIC:               } &     9.966   \\\\\n\\textbf{Df Residuals:}        &           7      & \\textbf{  BIC:               } &     10.87   \\\\\n\\textbf{Df Model:}            &           2      & \\textbf{                     } &             \\\\\n\\textbf{Covariance Type:}     &    nonrobust     & \\textbf{                     } &             \\\\\n\\bottomrule\n\\end{tabular}\n\\begin{tabular}{lcccccc}\n                              & \\textbf{coef} & \\textbf{std err} & \\textbf{t} & \\textbf{P$> |$t$|$} & \\textbf{[0.025} & \\textbf{0.975]}  \\\\\n\\midrule\n\\textbf{const}                &       3.7322  &        0.887     &     4.208  &         0.004        &        1.635    &        5.830     \\\\\n\\textbf{Miles Traveled}       &       0.0262  &        0.020     &     1.310  &         0.232        &       -0.021    &        0.074     \\\\\n\\textbf{Number of Deliveries} &       0.1840  &        0.251     &     0.733  &         0.487        &       -0.409    &        0.777     \\\\\n\\bottomrule\n\\end{tabular}\n\\begin{tabular}{lclc}\n\\textbf{Omnibus:}       &  1.340 & \\textbf{  Durbin-Watson:     } &    2.402  \\\\\n\\textbf{Prob(Omnibus):} &  0.512 & \\textbf{  Jarque-Bera (JB):  } &    0.867  \\\\\n\\textbf{Skew:}          &  0.654 & \\textbf{  Prob(JB):          } &    0.648  \\\\\n\\textbf{Kurtosis:}      &  2.393 & \\textbf{  Cond. No.          } &     670.  \\\\\n\\bottomrule\n\\end{tabular}\n%\\caption{OLS Regression Results}\n\\end{center}\n\nNotes: \\newline\n [1] Standard Errors assume that the covariance matrix of the errors is correctly specified."
          },
          "metadata": {},
          "execution_count": 73
        }
      ],
      "source": [
        "olsmod = sm.OLS(y, X).fit()\n",
        "olsmod.summary()"
      ]
    },
    {
      "cell_type": "markdown",
      "source": [
        "19. Display the r-squared"
      ],
      "metadata": {
        "id": "JAqSFFzAv5Rq"
      }
    },
    {
      "cell_type": "code",
      "execution_count": 44,
      "metadata": {
        "colab": {
          "base_uri": "https://localhost:8080/"
        },
        "outputId": "c28eef99-a525-4646-bec4-beee461aa341",
        "id": "RnmoA6MIv5Rq"
      },
      "outputs": [
        {
          "output_type": "stream",
          "name": "stdout",
          "text": [
            "0.871399502997586\n"
          ]
        }
      ],
      "source": [
        "print(olsmod.rsquared)"
      ]
    },
    {
      "cell_type": "markdown",
      "metadata": {
        "id": "-UbFBNWYwQNY"
      },
      "source": [
        "### Model 5: Miles Traveled, Gas Price and Travel Time"
      ]
    },
    {
      "cell_type": "markdown",
      "source": [
        "16. Set independent and dependent variables"
      ],
      "metadata": {
        "id": "2uluM83PwQNZ"
      }
    },
    {
      "cell_type": "code",
      "execution_count": 46,
      "metadata": {
        "id": "TsJn17y_wQNZ"
      },
      "outputs": [],
      "source": [
        "X = df[['Miles Traveled', 'Gas Price']]\n",
        "X = sm.add_constant(X)\n",
        "y = df['Travel Time']"
      ]
    },
    {
      "cell_type": "markdown",
      "source": [
        "17. Build and train the model"
      ],
      "metadata": {
        "id": "CEdxUQDGwQNZ"
      }
    },
    {
      "cell_type": "code",
      "execution_count": 45,
      "metadata": {
        "colab": {
          "base_uri": "https://localhost:8080/"
        },
        "outputId": "65621799-d425-4338-e707-b1721904af45",
        "id": "ZOM0puXKwQNZ"
      },
      "outputs": [
        {
          "output_type": "stream",
          "name": "stdout",
          "text": [
            "Intercept: 3.732158131682609\n",
            "Coefficients: [0.         0.02622257 0.18404052]\n"
          ]
        }
      ],
      "source": [
        "mlr_model = LinearRegression()\n",
        "\n",
        "mlr_model.fit(X, y)\n",
        "\n",
        "y_pred = mlr_model.predict(X)\n",
        "print('Intercept:', mlr_model.intercept_)\n",
        "print('Coefficients:', mlr_model.coef_)"
      ]
    },
    {
      "cell_type": "markdown",
      "source": [
        "18. Display the statistical summary"
      ],
      "metadata": {
        "id": "CXobEaIswQNZ"
      }
    },
    {
      "cell_type": "code",
      "execution_count": 47,
      "metadata": {
        "colab": {
          "base_uri": "https://localhost:8080/",
          "height": 489
        },
        "outputId": "8bd05d70-a8b6-4895-f389-4d30f34215e3",
        "id": "cSgCBz6awQNa"
      },
      "outputs": [
        {
          "output_type": "execute_result",
          "data": {
            "text/plain": [
              "<class 'statsmodels.iolib.summary.Summary'>\n",
              "\"\"\"\n",
              "                            OLS Regression Results                            \n",
              "==============================================================================\n",
              "Dep. Variable:            Travel Time   R-squared:                       0.866\n",
              "Model:                            OLS   Adj. R-squared:                  0.828\n",
              "Method:                 Least Squares   F-statistic:                     22.63\n",
              "Date:                Mon, 18 Aug 2025   Prob (F-statistic):           0.000879\n",
              "Time:                        05:58:18   Log-Likelihood:                -2.1863\n",
              "No. Observations:                  10   AIC:                             10.37\n",
              "Df Residuals:                       7   BIC:                             11.28\n",
              "Df Model:                           2                                         \n",
              "Covariance Type:            nonrobust                                         \n",
              "==================================================================================\n",
              "                     coef    std err          t      P>|t|      [0.025      0.975]\n",
              "----------------------------------------------------------------------------------\n",
              "const              3.8676      1.482      2.609      0.035       0.362       7.373\n",
              "Miles Traveled     0.0414      0.006      6.445      0.000       0.026       0.057\n",
              "Gas Price         -0.2191      0.449     -0.488      0.641      -1.282       0.844\n",
              "==============================================================================\n",
              "Omnibus:                        0.731   Durbin-Watson:                   2.740\n",
              "Prob(Omnibus):                  0.694   Jarque-Bera (JB):                0.563\n",
              "Skew:                           0.025   Prob(JB):                        0.755\n",
              "Kurtosis:                       1.839   Cond. No.                     1.11e+03\n",
              "==============================================================================\n",
              "\n",
              "Notes:\n",
              "[1] Standard Errors assume that the covariance matrix of the errors is correctly specified.\n",
              "[2] The condition number is large, 1.11e+03. This might indicate that there are\n",
              "strong multicollinearity or other numerical problems.\n",
              "\"\"\""
            ],
            "text/html": [
              "<table class=\"simpletable\">\n",
              "<caption>OLS Regression Results</caption>\n",
              "<tr>\n",
              "  <th>Dep. Variable:</th>       <td>Travel Time</td>   <th>  R-squared:         </th> <td>   0.866</td>\n",
              "</tr>\n",
              "<tr>\n",
              "  <th>Model:</th>                   <td>OLS</td>       <th>  Adj. R-squared:    </th> <td>   0.828</td>\n",
              "</tr>\n",
              "<tr>\n",
              "  <th>Method:</th>             <td>Least Squares</td>  <th>  F-statistic:       </th> <td>   22.63</td>\n",
              "</tr>\n",
              "<tr>\n",
              "  <th>Date:</th>             <td>Mon, 18 Aug 2025</td> <th>  Prob (F-statistic):</th> <td>0.000879</td>\n",
              "</tr>\n",
              "<tr>\n",
              "  <th>Time:</th>                 <td>05:58:18</td>     <th>  Log-Likelihood:    </th> <td> -2.1863</td>\n",
              "</tr>\n",
              "<tr>\n",
              "  <th>No. Observations:</th>      <td>    10</td>      <th>  AIC:               </th> <td>   10.37</td>\n",
              "</tr>\n",
              "<tr>\n",
              "  <th>Df Residuals:</th>          <td>     7</td>      <th>  BIC:               </th> <td>   11.28</td>\n",
              "</tr>\n",
              "<tr>\n",
              "  <th>Df Model:</th>              <td>     2</td>      <th>                     </th>     <td> </td>   \n",
              "</tr>\n",
              "<tr>\n",
              "  <th>Covariance Type:</th>      <td>nonrobust</td>    <th>                     </th>     <td> </td>   \n",
              "</tr>\n",
              "</table>\n",
              "<table class=\"simpletable\">\n",
              "<tr>\n",
              "         <td></td>           <th>coef</th>     <th>std err</th>      <th>t</th>      <th>P>|t|</th>  <th>[0.025</th>    <th>0.975]</th>  \n",
              "</tr>\n",
              "<tr>\n",
              "  <th>const</th>          <td>    3.8676</td> <td>    1.482</td> <td>    2.609</td> <td> 0.035</td> <td>    0.362</td> <td>    7.373</td>\n",
              "</tr>\n",
              "<tr>\n",
              "  <th>Miles Traveled</th> <td>    0.0414</td> <td>    0.006</td> <td>    6.445</td> <td> 0.000</td> <td>    0.026</td> <td>    0.057</td>\n",
              "</tr>\n",
              "<tr>\n",
              "  <th>Gas Price</th>      <td>   -0.2191</td> <td>    0.449</td> <td>   -0.488</td> <td> 0.641</td> <td>   -1.282</td> <td>    0.844</td>\n",
              "</tr>\n",
              "</table>\n",
              "<table class=\"simpletable\">\n",
              "<tr>\n",
              "  <th>Omnibus:</th>       <td> 0.731</td> <th>  Durbin-Watson:     </th> <td>   2.740</td>\n",
              "</tr>\n",
              "<tr>\n",
              "  <th>Prob(Omnibus):</th> <td> 0.694</td> <th>  Jarque-Bera (JB):  </th> <td>   0.563</td>\n",
              "</tr>\n",
              "<tr>\n",
              "  <th>Skew:</th>          <td> 0.025</td> <th>  Prob(JB):          </th> <td>   0.755</td>\n",
              "</tr>\n",
              "<tr>\n",
              "  <th>Kurtosis:</th>      <td> 1.839</td> <th>  Cond. No.          </th> <td>1.11e+03</td>\n",
              "</tr>\n",
              "</table><br/><br/>Notes:<br/>[1] Standard Errors assume that the covariance matrix of the errors is correctly specified.<br/>[2] The condition number is large, 1.11e+03. This might indicate that there are<br/>strong multicollinearity or other numerical problems."
            ],
            "text/latex": "\\begin{center}\n\\begin{tabular}{lclc}\n\\toprule\n\\textbf{Dep. Variable:}    &   Travel Time    & \\textbf{  R-squared:         } &     0.866   \\\\\n\\textbf{Model:}            &       OLS        & \\textbf{  Adj. R-squared:    } &     0.828   \\\\\n\\textbf{Method:}           &  Least Squares   & \\textbf{  F-statistic:       } &     22.63   \\\\\n\\textbf{Date:}             & Mon, 18 Aug 2025 & \\textbf{  Prob (F-statistic):} &  0.000879   \\\\\n\\textbf{Time:}             &     05:58:18     & \\textbf{  Log-Likelihood:    } &   -2.1863   \\\\\n\\textbf{No. Observations:} &          10      & \\textbf{  AIC:               } &     10.37   \\\\\n\\textbf{Df Residuals:}     &           7      & \\textbf{  BIC:               } &     11.28   \\\\\n\\textbf{Df Model:}         &           2      & \\textbf{                     } &             \\\\\n\\textbf{Covariance Type:}  &    nonrobust     & \\textbf{                     } &             \\\\\n\\bottomrule\n\\end{tabular}\n\\begin{tabular}{lcccccc}\n                        & \\textbf{coef} & \\textbf{std err} & \\textbf{t} & \\textbf{P$> |$t$|$} & \\textbf{[0.025} & \\textbf{0.975]}  \\\\\n\\midrule\n\\textbf{const}          &       3.8676  &        1.482     &     2.609  &         0.035        &        0.362    &        7.373     \\\\\n\\textbf{Miles Traveled} &       0.0414  &        0.006     &     6.445  &         0.000        &        0.026    &        0.057     \\\\\n\\textbf{Gas Price}      &      -0.2191  &        0.449     &    -0.488  &         0.641        &       -1.282    &        0.844     \\\\\n\\bottomrule\n\\end{tabular}\n\\begin{tabular}{lclc}\n\\textbf{Omnibus:}       &  0.731 & \\textbf{  Durbin-Watson:     } &    2.740  \\\\\n\\textbf{Prob(Omnibus):} &  0.694 & \\textbf{  Jarque-Bera (JB):  } &    0.563  \\\\\n\\textbf{Skew:}          &  0.025 & \\textbf{  Prob(JB):          } &    0.755  \\\\\n\\textbf{Kurtosis:}      &  1.839 & \\textbf{  Cond. No.          } & 1.11e+03  \\\\\n\\bottomrule\n\\end{tabular}\n%\\caption{OLS Regression Results}\n\\end{center}\n\nNotes: \\newline\n [1] Standard Errors assume that the covariance matrix of the errors is correctly specified. \\newline\n [2] The condition number is large, 1.11e+03. This might indicate that there are \\newline\n strong multicollinearity or other numerical problems."
          },
          "metadata": {},
          "execution_count": 47
        }
      ],
      "source": [
        "olsmod = sm.OLS(y, X).fit()\n",
        "olsmod.summary()"
      ]
    },
    {
      "cell_type": "markdown",
      "source": [
        "19. Display the r-squared"
      ],
      "metadata": {
        "id": "Rjxd7GiJwQNa"
      }
    },
    {
      "cell_type": "code",
      "execution_count": 48,
      "metadata": {
        "colab": {
          "base_uri": "https://localhost:8080/"
        },
        "outputId": "b7866dfb-d3f2-451b-ef4b-97e595765045",
        "id": "yoIOBVAawQNa"
      },
      "outputs": [
        {
          "output_type": "stream",
          "name": "stdout",
          "text": [
            "0.8660640485080335\n"
          ]
        }
      ],
      "source": [
        "print(olsmod.rsquared)"
      ]
    },
    {
      "cell_type": "markdown",
      "metadata": {
        "id": "RgwZuVkgwhzf"
      },
      "source": [
        "### Model 6: Number of Deliveries, Gas Price and Travel Time"
      ]
    },
    {
      "cell_type": "markdown",
      "source": [
        "16. Set independent and dependent variables"
      ],
      "metadata": {
        "id": "SyyYUrP6whzg"
      }
    },
    {
      "cell_type": "code",
      "execution_count": 49,
      "metadata": {
        "id": "QS5EYdJMwhzg"
      },
      "outputs": [],
      "source": [
        "X = df[['Number of Deliveries', 'Gas Price']]\n",
        "X = sm.add_constant(X)\n",
        "y = df['Travel Time']"
      ]
    },
    {
      "cell_type": "markdown",
      "source": [
        "17. Build and train the model"
      ],
      "metadata": {
        "id": "nZM-vVakwhzg"
      }
    },
    {
      "cell_type": "code",
      "execution_count": 50,
      "metadata": {
        "colab": {
          "base_uri": "https://localhost:8080/"
        },
        "outputId": "39c2d910-adda-419b-96f6-cc2da49fd914",
        "id": "tj8hCYWFwhzg"
      },
      "outputs": [
        {
          "output_type": "stream",
          "name": "stdout",
          "text": [
            "Intercept: 7.324307017016417\n",
            "Coefficients: [ 0.          0.56650081 -0.76498707]\n"
          ]
        }
      ],
      "source": [
        "mlr_model = LinearRegression()\n",
        "\n",
        "mlr_model.fit(X, y)\n",
        "\n",
        "y_pred = mlr_model.predict(X)\n",
        "print('Intercept:', mlr_model.intercept_)\n",
        "print('Coefficients:', mlr_model.coef_)"
      ]
    },
    {
      "cell_type": "markdown",
      "source": [
        "18. Display the statistical summary"
      ],
      "metadata": {
        "id": "z4tOyBPAwhzh"
      }
    },
    {
      "cell_type": "code",
      "execution_count": 51,
      "metadata": {
        "colab": {
          "base_uri": "https://localhost:8080/",
          "height": 454
        },
        "outputId": "c0fc25a5-f360-4932-8224-a4a5fb5f74d3",
        "id": "F3scHHX9whzh"
      },
      "outputs": [
        {
          "output_type": "execute_result",
          "data": {
            "text/plain": [
              "<class 'statsmodels.iolib.summary.Summary'>\n",
              "\"\"\"\n",
              "                            OLS Regression Results                            \n",
              "==============================================================================\n",
              "Dep. Variable:            Travel Time   R-squared:                       0.888\n",
              "Model:                            OLS   Adj. R-squared:                  0.855\n",
              "Method:                 Least Squares   F-statistic:                     27.63\n",
              "Date:                Mon, 18 Aug 2025   Prob (F-statistic):           0.000476\n",
              "Time:                        05:59:14   Log-Likelihood:                -1.3104\n",
              "No. Observations:                  10   AIC:                             8.621\n",
              "Df Residuals:                       7   BIC:                             9.529\n",
              "Df Model:                           2                                         \n",
              "Covariance Type:            nonrobust                                         \n",
              "========================================================================================\n",
              "                           coef    std err          t      P>|t|      [0.025      0.975]\n",
              "----------------------------------------------------------------------------------------\n",
              "const                    7.3243      1.458      5.025      0.002       3.878      10.771\n",
              "Number of Deliveries     0.5665      0.079      7.129      0.000       0.379       0.754\n",
              "Gas Price               -0.7650      0.444     -1.724      0.128      -1.814       0.284\n",
              "==============================================================================\n",
              "Omnibus:                        1.321   Durbin-Watson:                   2.054\n",
              "Prob(Omnibus):                  0.517   Jarque-Bera (JB):                0.811\n",
              "Skew:                           0.339   Prob(JB):                        0.667\n",
              "Kurtosis:                       1.781   Cond. No.                         71.9\n",
              "==============================================================================\n",
              "\n",
              "Notes:\n",
              "[1] Standard Errors assume that the covariance matrix of the errors is correctly specified.\n",
              "\"\"\""
            ],
            "text/html": [
              "<table class=\"simpletable\">\n",
              "<caption>OLS Regression Results</caption>\n",
              "<tr>\n",
              "  <th>Dep. Variable:</th>       <td>Travel Time</td>   <th>  R-squared:         </th> <td>   0.888</td>\n",
              "</tr>\n",
              "<tr>\n",
              "  <th>Model:</th>                   <td>OLS</td>       <th>  Adj. R-squared:    </th> <td>   0.855</td>\n",
              "</tr>\n",
              "<tr>\n",
              "  <th>Method:</th>             <td>Least Squares</td>  <th>  F-statistic:       </th> <td>   27.63</td>\n",
              "</tr>\n",
              "<tr>\n",
              "  <th>Date:</th>             <td>Mon, 18 Aug 2025</td> <th>  Prob (F-statistic):</th> <td>0.000476</td>\n",
              "</tr>\n",
              "<tr>\n",
              "  <th>Time:</th>                 <td>05:59:14</td>     <th>  Log-Likelihood:    </th> <td> -1.3104</td>\n",
              "</tr>\n",
              "<tr>\n",
              "  <th>No. Observations:</th>      <td>    10</td>      <th>  AIC:               </th> <td>   8.621</td>\n",
              "</tr>\n",
              "<tr>\n",
              "  <th>Df Residuals:</th>          <td>     7</td>      <th>  BIC:               </th> <td>   9.529</td>\n",
              "</tr>\n",
              "<tr>\n",
              "  <th>Df Model:</th>              <td>     2</td>      <th>                     </th>     <td> </td>   \n",
              "</tr>\n",
              "<tr>\n",
              "  <th>Covariance Type:</th>      <td>nonrobust</td>    <th>                     </th>     <td> </td>   \n",
              "</tr>\n",
              "</table>\n",
              "<table class=\"simpletable\">\n",
              "<tr>\n",
              "            <td></td>              <th>coef</th>     <th>std err</th>      <th>t</th>      <th>P>|t|</th>  <th>[0.025</th>    <th>0.975]</th>  \n",
              "</tr>\n",
              "<tr>\n",
              "  <th>const</th>                <td>    7.3243</td> <td>    1.458</td> <td>    5.025</td> <td> 0.002</td> <td>    3.878</td> <td>   10.771</td>\n",
              "</tr>\n",
              "<tr>\n",
              "  <th>Number of Deliveries</th> <td>    0.5665</td> <td>    0.079</td> <td>    7.129</td> <td> 0.000</td> <td>    0.379</td> <td>    0.754</td>\n",
              "</tr>\n",
              "<tr>\n",
              "  <th>Gas Price</th>            <td>   -0.7650</td> <td>    0.444</td> <td>   -1.724</td> <td> 0.128</td> <td>   -1.814</td> <td>    0.284</td>\n",
              "</tr>\n",
              "</table>\n",
              "<table class=\"simpletable\">\n",
              "<tr>\n",
              "  <th>Omnibus:</th>       <td> 1.321</td> <th>  Durbin-Watson:     </th> <td>   2.054</td>\n",
              "</tr>\n",
              "<tr>\n",
              "  <th>Prob(Omnibus):</th> <td> 0.517</td> <th>  Jarque-Bera (JB):  </th> <td>   0.811</td>\n",
              "</tr>\n",
              "<tr>\n",
              "  <th>Skew:</th>          <td> 0.339</td> <th>  Prob(JB):          </th> <td>   0.667</td>\n",
              "</tr>\n",
              "<tr>\n",
              "  <th>Kurtosis:</th>      <td> 1.781</td> <th>  Cond. No.          </th> <td>    71.9</td>\n",
              "</tr>\n",
              "</table><br/><br/>Notes:<br/>[1] Standard Errors assume that the covariance matrix of the errors is correctly specified."
            ],
            "text/latex": "\\begin{center}\n\\begin{tabular}{lclc}\n\\toprule\n\\textbf{Dep. Variable:}       &   Travel Time    & \\textbf{  R-squared:         } &     0.888   \\\\\n\\textbf{Model:}               &       OLS        & \\textbf{  Adj. R-squared:    } &     0.855   \\\\\n\\textbf{Method:}              &  Least Squares   & \\textbf{  F-statistic:       } &     27.63   \\\\\n\\textbf{Date:}                & Mon, 18 Aug 2025 & \\textbf{  Prob (F-statistic):} &  0.000476   \\\\\n\\textbf{Time:}                &     05:59:14     & \\textbf{  Log-Likelihood:    } &   -1.3104   \\\\\n\\textbf{No. Observations:}    &          10      & \\textbf{  AIC:               } &     8.621   \\\\\n\\textbf{Df Residuals:}        &           7      & \\textbf{  BIC:               } &     9.529   \\\\\n\\textbf{Df Model:}            &           2      & \\textbf{                     } &             \\\\\n\\textbf{Covariance Type:}     &    nonrobust     & \\textbf{                     } &             \\\\\n\\bottomrule\n\\end{tabular}\n\\begin{tabular}{lcccccc}\n                              & \\textbf{coef} & \\textbf{std err} & \\textbf{t} & \\textbf{P$> |$t$|$} & \\textbf{[0.025} & \\textbf{0.975]}  \\\\\n\\midrule\n\\textbf{const}                &       7.3243  &        1.458     &     5.025  &         0.002        &        3.878    &       10.771     \\\\\n\\textbf{Number of Deliveries} &       0.5665  &        0.079     &     7.129  &         0.000        &        0.379    &        0.754     \\\\\n\\textbf{Gas Price}            &      -0.7650  &        0.444     &    -1.724  &         0.128        &       -1.814    &        0.284     \\\\\n\\bottomrule\n\\end{tabular}\n\\begin{tabular}{lclc}\n\\textbf{Omnibus:}       &  1.321 & \\textbf{  Durbin-Watson:     } &    2.054  \\\\\n\\textbf{Prob(Omnibus):} &  0.517 & \\textbf{  Jarque-Bera (JB):  } &    0.811  \\\\\n\\textbf{Skew:}          &  0.339 & \\textbf{  Prob(JB):          } &    0.667  \\\\\n\\textbf{Kurtosis:}      &  1.781 & \\textbf{  Cond. No.          } &     71.9  \\\\\n\\bottomrule\n\\end{tabular}\n%\\caption{OLS Regression Results}\n\\end{center}\n\nNotes: \\newline\n [1] Standard Errors assume that the covariance matrix of the errors is correctly specified."
          },
          "metadata": {},
          "execution_count": 51
        }
      ],
      "source": [
        "olsmod = sm.OLS(y, X).fit()\n",
        "olsmod.summary()"
      ]
    },
    {
      "cell_type": "markdown",
      "source": [
        "19. Display the r-squared"
      ],
      "metadata": {
        "id": "0HVo0sfpwhzh"
      }
    },
    {
      "cell_type": "code",
      "execution_count": 52,
      "metadata": {
        "colab": {
          "base_uri": "https://localhost:8080/"
        },
        "outputId": "bc201ff2-8404-4ccc-e2d3-ee0f767a244c",
        "id": "lgUfNp51whzh"
      },
      "outputs": [
        {
          "output_type": "stream",
          "name": "stdout",
          "text": [
            "0.8875862701921513\n"
          ]
        }
      ],
      "source": [
        "print(olsmod.rsquared)"
      ]
    },
    {
      "cell_type": "markdown",
      "metadata": {
        "id": "oqoFdGLcxguP"
      },
      "source": [
        "### Model 7: Miles Traveled, Number of Deliveries, Gas Price and Travel Time"
      ]
    },
    {
      "cell_type": "markdown",
      "source": [
        "16. Set independent and dependent variables"
      ],
      "metadata": {
        "id": "B0E12YbHxguQ"
      }
    },
    {
      "cell_type": "code",
      "execution_count": 59,
      "metadata": {
        "id": "_rJyWK6UxguQ"
      },
      "outputs": [],
      "source": [
        "X = df[['Miles Traveled', 'Number of Deliveries', 'Gas Price']]\n",
        "X = sm.add_constant(X)\n",
        "y = df['Travel Time']"
      ]
    },
    {
      "cell_type": "markdown",
      "source": [
        "17. Build and train the model"
      ],
      "metadata": {
        "id": "qklK7Ze4xguQ"
      }
    },
    {
      "cell_type": "code",
      "execution_count": 60,
      "metadata": {
        "colab": {
          "base_uri": "https://localhost:8080/"
        },
        "outputId": "49143f77-8a58-460b-c954-10a7c24b979f",
        "id": "EoEEQgdgxguQ"
      },
      "outputs": [
        {
          "output_type": "stream",
          "name": "stdout",
          "text": [
            "Intercept: 6.211377663979402\n",
            "Coefficients: [ 0.          0.01412189  0.38315024 -0.60655271]\n"
          ]
        }
      ],
      "source": [
        "mlr_model = LinearRegression()\n",
        "\n",
        "mlr_model.fit(X, y)\n",
        "\n",
        "y_pred = mlr_model.predict(X)\n",
        "print('Intercept:', mlr_model.intercept_)\n",
        "print('Coefficients:', mlr_model.coef_)"
      ]
    },
    {
      "cell_type": "markdown",
      "source": [
        "18. Display the statistical summary"
      ],
      "metadata": {
        "id": "fJYEfFbqxguQ"
      }
    },
    {
      "cell_type": "code",
      "execution_count": 61,
      "metadata": {
        "colab": {
          "base_uri": "https://localhost:8080/",
          "height": 510
        },
        "outputId": "50a1b954-888d-4f5c-82b7-05e33af1b287",
        "id": "_G0HjA7mxguR"
      },
      "outputs": [
        {
          "output_type": "execute_result",
          "data": {
            "text/plain": [
              "<class 'statsmodels.iolib.summary.Summary'>\n",
              "\"\"\"\n",
              "                            OLS Regression Results                            \n",
              "==============================================================================\n",
              "Dep. Variable:            Travel Time   R-squared:                       0.895\n",
              "Model:                            OLS   Adj. R-squared:                  0.842\n",
              "Method:                 Least Squares   F-statistic:                     16.99\n",
              "Date:                Mon, 18 Aug 2025   Prob (F-statistic):            0.00245\n",
              "Time:                        06:03:30   Log-Likelihood:               -0.98426\n",
              "No. Observations:                  10   AIC:                             9.969\n",
              "Df Residuals:                       6   BIC:                             11.18\n",
              "Df Model:                           3                                         \n",
              "Covariance Type:            nonrobust                                         \n",
              "========================================================================================\n",
              "                           coef    std err          t      P>|t|      [0.025      0.975]\n",
              "----------------------------------------------------------------------------------------\n",
              "const                    6.2114      2.321      2.677      0.037       0.533      11.890\n",
              "Miles Traveled           0.0141      0.022      0.636      0.548      -0.040       0.068\n",
              "Number of Deliveries     0.3832      0.300      1.277      0.249      -0.351       1.117\n",
              "Gas Price               -0.6066      0.527     -1.152      0.293      -1.895       0.682\n",
              "==============================================================================\n",
              "Omnibus:                        2.874   Durbin-Watson:                   2.406\n",
              "Prob(Omnibus):                  0.238   Jarque-Bera (JB):                1.204\n",
              "Skew:                           0.457   Prob(JB):                        0.548\n",
              "Kurtosis:                       1.567   Cond. No.                     1.79e+03\n",
              "==============================================================================\n",
              "\n",
              "Notes:\n",
              "[1] Standard Errors assume that the covariance matrix of the errors is correctly specified.\n",
              "[2] The condition number is large, 1.79e+03. This might indicate that there are\n",
              "strong multicollinearity or other numerical problems.\n",
              "\"\"\""
            ],
            "text/html": [
              "<table class=\"simpletable\">\n",
              "<caption>OLS Regression Results</caption>\n",
              "<tr>\n",
              "  <th>Dep. Variable:</th>       <td>Travel Time</td>   <th>  R-squared:         </th> <td>   0.895</td>\n",
              "</tr>\n",
              "<tr>\n",
              "  <th>Model:</th>                   <td>OLS</td>       <th>  Adj. R-squared:    </th> <td>   0.842</td>\n",
              "</tr>\n",
              "<tr>\n",
              "  <th>Method:</th>             <td>Least Squares</td>  <th>  F-statistic:       </th> <td>   16.99</td>\n",
              "</tr>\n",
              "<tr>\n",
              "  <th>Date:</th>             <td>Mon, 18 Aug 2025</td> <th>  Prob (F-statistic):</th>  <td>0.00245</td>\n",
              "</tr>\n",
              "<tr>\n",
              "  <th>Time:</th>                 <td>06:03:30</td>     <th>  Log-Likelihood:    </th> <td>-0.98426</td>\n",
              "</tr>\n",
              "<tr>\n",
              "  <th>No. Observations:</th>      <td>    10</td>      <th>  AIC:               </th> <td>   9.969</td>\n",
              "</tr>\n",
              "<tr>\n",
              "  <th>Df Residuals:</th>          <td>     6</td>      <th>  BIC:               </th> <td>   11.18</td>\n",
              "</tr>\n",
              "<tr>\n",
              "  <th>Df Model:</th>              <td>     3</td>      <th>                     </th>     <td> </td>   \n",
              "</tr>\n",
              "<tr>\n",
              "  <th>Covariance Type:</th>      <td>nonrobust</td>    <th>                     </th>     <td> </td>   \n",
              "</tr>\n",
              "</table>\n",
              "<table class=\"simpletable\">\n",
              "<tr>\n",
              "            <td></td>              <th>coef</th>     <th>std err</th>      <th>t</th>      <th>P>|t|</th>  <th>[0.025</th>    <th>0.975]</th>  \n",
              "</tr>\n",
              "<tr>\n",
              "  <th>const</th>                <td>    6.2114</td> <td>    2.321</td> <td>    2.677</td> <td> 0.037</td> <td>    0.533</td> <td>   11.890</td>\n",
              "</tr>\n",
              "<tr>\n",
              "  <th>Miles Traveled</th>       <td>    0.0141</td> <td>    0.022</td> <td>    0.636</td> <td> 0.548</td> <td>   -0.040</td> <td>    0.068</td>\n",
              "</tr>\n",
              "<tr>\n",
              "  <th>Number of Deliveries</th> <td>    0.3832</td> <td>    0.300</td> <td>    1.277</td> <td> 0.249</td> <td>   -0.351</td> <td>    1.117</td>\n",
              "</tr>\n",
              "<tr>\n",
              "  <th>Gas Price</th>            <td>   -0.6066</td> <td>    0.527</td> <td>   -1.152</td> <td> 0.293</td> <td>   -1.895</td> <td>    0.682</td>\n",
              "</tr>\n",
              "</table>\n",
              "<table class=\"simpletable\">\n",
              "<tr>\n",
              "  <th>Omnibus:</th>       <td> 2.874</td> <th>  Durbin-Watson:     </th> <td>   2.406</td>\n",
              "</tr>\n",
              "<tr>\n",
              "  <th>Prob(Omnibus):</th> <td> 0.238</td> <th>  Jarque-Bera (JB):  </th> <td>   1.204</td>\n",
              "</tr>\n",
              "<tr>\n",
              "  <th>Skew:</th>          <td> 0.457</td> <th>  Prob(JB):          </th> <td>   0.548</td>\n",
              "</tr>\n",
              "<tr>\n",
              "  <th>Kurtosis:</th>      <td> 1.567</td> <th>  Cond. No.          </th> <td>1.79e+03</td>\n",
              "</tr>\n",
              "</table><br/><br/>Notes:<br/>[1] Standard Errors assume that the covariance matrix of the errors is correctly specified.<br/>[2] The condition number is large, 1.79e+03. This might indicate that there are<br/>strong multicollinearity or other numerical problems."
            ],
            "text/latex": "\\begin{center}\n\\begin{tabular}{lclc}\n\\toprule\n\\textbf{Dep. Variable:}       &   Travel Time    & \\textbf{  R-squared:         } &     0.895   \\\\\n\\textbf{Model:}               &       OLS        & \\textbf{  Adj. R-squared:    } &     0.842   \\\\\n\\textbf{Method:}              &  Least Squares   & \\textbf{  F-statistic:       } &     16.99   \\\\\n\\textbf{Date:}                & Mon, 18 Aug 2025 & \\textbf{  Prob (F-statistic):} &  0.00245    \\\\\n\\textbf{Time:}                &     06:03:30     & \\textbf{  Log-Likelihood:    } &  -0.98426   \\\\\n\\textbf{No. Observations:}    &          10      & \\textbf{  AIC:               } &     9.969   \\\\\n\\textbf{Df Residuals:}        &           6      & \\textbf{  BIC:               } &     11.18   \\\\\n\\textbf{Df Model:}            &           3      & \\textbf{                     } &             \\\\\n\\textbf{Covariance Type:}     &    nonrobust     & \\textbf{                     } &             \\\\\n\\bottomrule\n\\end{tabular}\n\\begin{tabular}{lcccccc}\n                              & \\textbf{coef} & \\textbf{std err} & \\textbf{t} & \\textbf{P$> |$t$|$} & \\textbf{[0.025} & \\textbf{0.975]}  \\\\\n\\midrule\n\\textbf{const}                &       6.2114  &        2.321     &     2.677  &         0.037        &        0.533    &       11.890     \\\\\n\\textbf{Miles Traveled}       &       0.0141  &        0.022     &     0.636  &         0.548        &       -0.040    &        0.068     \\\\\n\\textbf{Number of Deliveries} &       0.3832  &        0.300     &     1.277  &         0.249        &       -0.351    &        1.117     \\\\\n\\textbf{Gas Price}            &      -0.6066  &        0.527     &    -1.152  &         0.293        &       -1.895    &        0.682     \\\\\n\\bottomrule\n\\end{tabular}\n\\begin{tabular}{lclc}\n\\textbf{Omnibus:}       &  2.874 & \\textbf{  Durbin-Watson:     } &    2.406  \\\\\n\\textbf{Prob(Omnibus):} &  0.238 & \\textbf{  Jarque-Bera (JB):  } &    1.204  \\\\\n\\textbf{Skew:}          &  0.457 & \\textbf{  Prob(JB):          } &    0.548  \\\\\n\\textbf{Kurtosis:}      &  1.567 & \\textbf{  Cond. No.          } & 1.79e+03  \\\\\n\\bottomrule\n\\end{tabular}\n%\\caption{OLS Regression Results}\n\\end{center}\n\nNotes: \\newline\n [1] Standard Errors assume that the covariance matrix of the errors is correctly specified. \\newline\n [2] The condition number is large, 1.79e+03. This might indicate that there are \\newline\n strong multicollinearity or other numerical problems."
          },
          "metadata": {},
          "execution_count": 61
        }
      ],
      "source": [
        "olsmod = sm.OLS(y, X).fit()\n",
        "olsmod.summary()"
      ]
    },
    {
      "cell_type": "markdown",
      "source": [
        "19. Display the r-squared"
      ],
      "metadata": {
        "id": "_6orMjqgxguR"
      }
    },
    {
      "cell_type": "code",
      "execution_count": 62,
      "metadata": {
        "colab": {
          "base_uri": "https://localhost:8080/"
        },
        "outputId": "4c1e1846-e416-4de5-8f19-47973c4d048c",
        "id": "r_NlrL4uxguR"
      },
      "outputs": [
        {
          "output_type": "stream",
          "name": "stdout",
          "text": [
            "0.8946842692569462\n"
          ]
        }
      ],
      "source": [
        "print(olsmod.rsquared)"
      ]
    }
  ],
  "metadata": {
    "colab": {
      "provenance": [],
      "include_colab_link": true
    },
    "kernelspec": {
      "display_name": "Python 3",
      "name": "python3"
    },
    "language_info": {
      "name": "python"
    }
  },
  "nbformat": 4,
  "nbformat_minor": 0
}